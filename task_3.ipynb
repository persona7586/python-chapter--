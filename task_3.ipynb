{
  "cells": [
    {
      "cell_type": "markdown",
      "metadata": {
        "id": "view-in-github",
        "colab_type": "text"
      },
      "source": [
        "<a href=\"https://colab.research.google.com/github/persona7586/python-chapter--/blob/main/task_3.ipynb\" target=\"_parent\"><img src=\"https://colab.research.google.com/assets/colab-badge.svg\" alt=\"Open In Colab\"/></a>"
      ]
    },
    {
      "cell_type": "markdown",
      "metadata": {
        "id": "ZsleehLa7dWO"
      },
      "source": [
        "[문제]\n",
        "\n",
        "'Book' 클래스를 선언하세요.\n",
        "\n",
        "이 클래스는 title (제목)과 author (저자) 두 개의 속성을 갖습니다.\n",
        "\n",
        "__str__ 특수 메소드를 오버라이드하여, 객체를 문자열로 변환할 때 \"제목: [title], 저자: [author]\" 형식의 문자열을 반환하도록 하세요.\n",
        "\n",
        "'Book' 객체를 하나 생성하고, print 함수를 사용하여 해당 객체의 문자열 표현을 출력하세요."
      ]
    },
    {
      "cell_type": "markdown",
      "metadata": {
        "id": "iJifHKh47dWP"
      },
      "source": [
        "'Book' 클래스를 선언하세요.  \n",
        "이 클래스는 title (제목)과 author (저자) 두 개의 속성을 갖습니다.  \n",
        "또한, 'describe_book'이라는 메소드를 추가하여, 호출 시 \"제목: [title], 저자: [author]\" 형식의 문자열을 출력하도록 하세요.  \n",
        "'Book' 객체를 하나 생성하고, 'describe_book' 메소드를 호출하여 해당 객체의 정보를 출력하세요.  \n",
        "이 문제는 클래스의 기본적인 사용법을 이해하고, 속성과 메소드를 정의하는 방법에 초점을 맞춥니다."
      ]
    },
    {
      "cell_type": "code",
      "source": [
        "class Book:   #클래스 선언\n",
        "    def __init__(self, title, author):\n",
        "        self.title = title  #속성1\n",
        "        self.author = author  #속성2\n",
        "\n",
        "    def describe_book(self):  #메소드 추가\n",
        "        return f\"제목: {self.title}, 저자: {self.author}\"\n",
        "\n",
        "\n",
        "# Book 객체 생성 및 출력\n",
        "book = Book(\"파이썬 프로그래밍\", \"장태문\")\n",
        "book.describe_book()  #메소드 호출"
      ],
      "metadata": {
        "id": "UEEv3saM7mee",
        "colab": {
          "base_uri": "https://localhost:8080/",
          "height": 35
        },
        "outputId": "01d1641d-ce25-46db-9423-8e4485ed6561"
      },
      "execution_count": null,
      "outputs": [
        {
          "output_type": "execute_result",
          "data": {
            "text/plain": [
              "'제목: 파이썬 프로그래밍, 저자: 장태문'"
            ],
            "application/vnd.google.colaboratory.intrinsic+json": {
              "type": "string"
            }
          },
          "metadata": {},
          "execution_count": 2
        }
      ]
    }
  ],
  "metadata": {
    "language_info": {
      "name": "python"
    },
    "colab": {
      "provenance": [],
      "include_colab_link": true
    },
    "kernelspec": {
      "name": "python3",
      "display_name": "Python 3"
    }
  },
  "nbformat": 4,
  "nbformat_minor": 0
}