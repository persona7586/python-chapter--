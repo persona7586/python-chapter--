{
  "cells": [
    {
      "cell_type": "markdown",
      "metadata": {
        "id": "view-in-github",
        "colab_type": "text"
      },
      "source": [
        "<a href=\"https://colab.research.google.com/github/persona7586/python-chapter--/blob/main/Ch21_task.ipynb\" target=\"_parent\"><img src=\"https://colab.research.google.com/assets/colab-badge.svg\" alt=\"Open In Colab\"/></a>"
      ]
    },
    {
      "cell_type": "markdown",
      "metadata": {
        "id": "HXMC5Tt9yTRx"
      },
      "source": [
        "사용자로부터 이름과 나이를 입력 받아, \"안녕하세요, [이름]님! 당신은 [나이]살입니다.\"라고 출력하는 함수 greet_user를 작성하세요."
      ]
    },
    {
      "cell_type": "code",
      "source": [
        "def greet_user(name, age):\n",
        "    print(f'안녕하세요. {name}님! 당신은 {age}살입니다.')\n",
        "#함수는 일단 def 작성, greet_user을 작성하라고 했으니 넣어봄, [이름],[나이]를 넣으라 했으니 괄호 안에 여러 값을 쉼표로 구분해 작성하는 튜플(Tuple)을 작성\n",
        "#튜플은 순서를 갖으면서 각 요소에 접근하기 편함\n",
        "#f-string 사용 : 문자열 내에 변수나 표현식을 삽입해 동적으로 문자열을 생성\n",
        "#문자열 앞에 f를 붙이고 중괄호{}안에 변수, 표현식을 넣어 중괄호 안에 내용을 문자열로 변환하여 출력시킴\n",
        "greet_user(\"장태문\", \"31(만)\")\n",
        "#함수에서는 들여쓰기 없이 입력된 내용을 먼저 인식하고 해당 내용이 위에 있는 함수 내용을 호출 그 호출 된 내용에 있는 print 내용을 표현"
      ],
      "metadata": {
        "colab": {
          "base_uri": "https://localhost:8080/"
        },
        "id": "z5CcnYRR0oyU",
        "outputId": "9455818f-7866-4b7e-85b1-cc8b109c162b"
      },
      "execution_count": null,
      "outputs": [
        {
          "output_type": "stream",
          "name": "stdout",
          "text": [
            "안녕하세요. 장태문님! 당신은 31(만)살입니다.\n"
          ]
        }
      ]
    }
  ],
  "metadata": {
    "language_info": {
      "name": "python"
    },
    "colab": {
      "provenance": [],
      "include_colab_link": true
    },
    "kernelspec": {
      "name": "python3",
      "display_name": "Python 3"
    }
  },
  "nbformat": 4,
  "nbformat_minor": 0
}