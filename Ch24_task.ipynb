{
  "cells": [
    {
      "cell_type": "markdown",
      "metadata": {
        "id": "view-in-github",
        "colab_type": "text"
      },
      "source": [
        "<a href=\"https://colab.research.google.com/github/persona7586/python-chapter--/blob/main/Ch24_task.ipynb\" target=\"_parent\"><img src=\"https://colab.research.google.com/assets/colab-badge.svg\" alt=\"Open In Colab\"/></a>"
      ]
    },
    {
      "cell_type": "markdown",
      "metadata": {
        "id": "AJv_eCnMBbxQ"
      },
      "source": [
        "사용자의 이름, 나이, 성별을 출력하는 함수 print_info를 작성하세요. 이 때, 모든 매개변수는 키워드 매개변수로만 받도록 하세요."
      ]
    },
    {
      "cell_type": "code",
      "source": [
        "def print_info(**nas):\n",
        "    for key, value in nas.items():\n",
        "        print(f'{key}: {value}')\n",
        "\n",
        "print_info(name='태문', age=31, gender='남')\n",
        "\n",
        "#**ans **이테라블 : 리스트, 문자열, 딕셔너리, 튜플 등과 같은 반복 가능한 객체를 한 번에 순회할 수 있도록 해줘 데이터 처리에 효율적이고 간결하게 반복문을 사용할 수 있음.\n",
        "#for key, value in nas.items() : 딕셔너리의 모든 키-값 쌍을 반복\n",
        "#for : 반복문을 시작하는 키워드로 nas.items()안에서 반환된 각 (key, value) 쌍을 순차적으로 처리 하겠다는 의미\n",
        "#key, value : 딕셔너리의 키와 값이 각각 할당될 변수, 반복문이 실행 될 때, 한 번의 반복마다 하나의 (key, value) 쌍이 key와 value변수에 저장\n",
        "#딕셔너리 {'name':'태문', 'age':'31'} => 1. key = 'name', value = '태문' 2. key = 'age', value = 31 한 번의 반복마다 하나의 쌍이 저장\n",
        "#nas.items() : 딕셔너리의 모든 (키, 값)쌍을 반환\n",
        "#반환값 = dict_items 객체 - (key, value)형식의 튜플로 구성된 리스트와 유사 ex) {\"name\": \"태문\", \"age\": 31}에서 nas.items()는 [(\"name\", \"태문\"), (\"age\", 31)]처럼 동작\n"
      ],
      "metadata": {
        "colab": {
          "base_uri": "https://localhost:8080/"
        },
        "id": "U5xQ6G0dBgL2",
        "outputId": "492c71e4-5cf4-4f4e-9280-bf3b49180776"
      },
      "execution_count": null,
      "outputs": [
        {
          "output_type": "stream",
          "name": "stdout",
          "text": [
            "name: 태문\n",
            "age: 31\n",
            "gender: 남\n"
          ]
        }
      ]
    },
    {
      "cell_type": "code",
      "source": [
        "#세로가 아닌 가로로 이어서 출력 시도 join을 이용\n",
        "\n",
        "def print_info(**nas):\n",
        "    info = ','.join(f'{key}: {value}' for key, value in nas.items())\n",
        "    print(info)\n",
        "\n",
        "print_info(name='태문', age=31, gender='남')\n",
        "\n",
        "#','.join() 리스트 각 요소를 ,로 연결해서 하나의 문자열로 만듬"
      ],
      "metadata": {
        "colab": {
          "base_uri": "https://localhost:8080/"
        },
        "id": "EqIV6JdUGSwN",
        "outputId": "8b7b10eb-dc2c-405b-eb4a-79106f71f9a4"
      },
      "execution_count": null,
      "outputs": [
        {
          "output_type": "stream",
          "name": "stdout",
          "text": [
            "name: 태문,age: 31,gender: 남\n"
          ]
        }
      ]
    }
  ],
  "metadata": {
    "language_info": {
      "name": "python"
    },
    "colab": {
      "provenance": [],
      "include_colab_link": true
    },
    "kernelspec": {
      "name": "python3",
      "display_name": "Python 3"
    }
  },
  "nbformat": 4,
  "nbformat_minor": 0
}