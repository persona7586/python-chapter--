{
  "cells": [
    {
      "cell_type": "markdown",
      "metadata": {
        "id": "view-in-github",
        "colab_type": "text"
      },
      "source": [
        "<a href=\"https://colab.research.google.com/github/persona7586/python-chapter--/blob/main/Chapter0508_%E1%84%80%E1%85%AA%E1%84%8C%E1%85%A6.ipynb\" target=\"_parent\"><img src=\"https://colab.research.google.com/assets/colab-badge.svg\" alt=\"Open In Colab\"/></a>"
      ]
    },
    {
      "cell_type": "markdown",
      "metadata": {
        "id": "WXEwMsfUct7U"
      },
      "source": [
        "안녕하세요.<br><br>\n",
        "수강생 여러분~! Chapter05 ~ 08 수업은 잘 들으셨나요?\n",
        "\n",
        "Chapter05 ~ 08의 수업 내용을 바탕으로 아래 문제를 풀어주시면 됩니다.\n",
        "\n",
        "<br>\n",
        "\n",
        "\n",
        "[**답변 입력 방법**]\n",
        "\n",
        "문제 아래에 있는 코드 입력창에 정답코드를 작성하신 후  __▷ 버튼을 클릭해 코드를 실행__ 해보세요<br>"
      ]
    },
    {
      "cell_type": "markdown",
      "metadata": {
        "id": "qoyC9wF-3hvs"
      },
      "source": [
        "-----"
      ]
    },
    {
      "cell_type": "markdown",
      "metadata": {
        "id": "ycNTRIyD-WGt"
      },
      "source": [
        "__[문제0]__\n",
        "<br>\n",
        "\n",
        "##### 이전 과제에서 \"도전! 신비의 섬 탐험\" 을 변수를 이용해서 다시 풀어보세요 !!!!!\n",
        "\n"
      ]
    },
    {
      "cell_type": "markdown",
      "metadata": {
        "id": "rAD_O3Gmc_43"
      },
      "source": [
        "__[문제1]__\n",
        "\n",
        "<br>\n",
        "변수명 게임에 들어 있는 값 중 '홀'만 출력되도록 코드를 작성해 주세요\n",
        "\n",
        "game = \"홀짝홀짝홀짝\"\n",
        "\n",
        "출력 예시 : \"홀홀홀\"\n"
      ]
    },
    {
      "cell_type": "markdown",
      "metadata": {
        "id": "YcCIQt3T-WGt"
      },
      "source": [
        "__Tips__\n",
        "- 문자열 슬라이싱을 이용해보세요 !"
      ]
    },
    {
      "cell_type": "code",
      "execution_count": 2,
      "metadata": {
        "id": "74wtVQFFc_h1",
        "colab": {
          "base_uri": "https://localhost:8080/",
          "height": 0
        },
        "outputId": "2ab3a63c-807b-467b-d30b-2b4143717279"
      },
      "outputs": [
        {
          "output_type": "stream",
          "name": "stdout",
          "text": [
            "홀홀홀\n"
          ]
        }
      ],
      "source": [
        "game = \"홀짝홀짝홀짝\"\n",
        "R = game[::2]\n",
        "#  [::2]는 게임 변수의 0번 인덱스부터 시작해서 2의 간격으로 문자를 선택하라는 의미\n",
        "print(R)"
      ]
    },
    {
      "cell_type": "markdown",
      "metadata": {
        "id": "fFh1M_nf-WGt"
      },
      "source": [
        "---"
      ]
    },
    {
      "cell_type": "markdown",
      "metadata": {
        "id": "3uK_auXYdgk2"
      },
      "source": [
        "__[문제2]__\n",
        "\n",
        "<br>\n",
        "\n",
        "변수명 전화번호에 들어 있는 번호를 모두 붙여서 출력되도록 코드를 작성해주세요.\n",
        "\n",
        "<br>\n",
        "\n",
        "phone = \"010-1234-5678\"\n",
        "\n",
        "출력 예시 : \"01012345678\""
      ]
    },
    {
      "cell_type": "markdown",
      "metadata": {
        "id": "8CX83bKa-WGu"
      },
      "source": [
        "__Tips__\n",
        "- split() 함수는 문자열을 특정 구분자를 기준으로 나누어 리스트로 반환합니다."
      ]
    },
    {
      "cell_type": "code",
      "execution_count": 3,
      "metadata": {
        "id": "9kvBxa6PdhgA",
        "colab": {
          "base_uri": "https://localhost:8080/",
          "height": 0
        },
        "outputId": "a0e4635b-d693-4e51-8a5a-61a5efda1982"
      },
      "outputs": [
        {
          "output_type": "stream",
          "name": "stdout",
          "text": [
            "01012345678\n"
          ]
        }
      ],
      "source": [
        "# 전화번호.split('-')는 전화번호를 하이픈('-')을 기준으로 나누어 리스트를 반환하고,\n",
        "# ''.join()은 이 리스트의 요소들을 빈 문자열('')로 연결하여 하나의 문자열로 만듭니다.\n",
        "\n",
        "phone = \"010-1234-5678\"\n",
        "R = ''.join(phone.split('-'))\n",
        "print(R)"
      ]
    },
    {
      "cell_type": "markdown",
      "metadata": {
        "id": "ehbNEhSJ-WGu"
      },
      "source": [
        "----"
      ]
    },
    {
      "cell_type": "markdown",
      "metadata": {
        "id": "sd4oeRfr-WGu"
      },
      "source": [
        "<br>\n",
        "\n",
        "__[문제3]__\n",
        "\n",
        "<br>\n",
        "\n",
        "오즈 코딩 스쿨 백엔드 8기 과정에 참여한 수강생 중 5명의 수강생이 자율적으로 스터디 그룹을 결성했습니다.\n",
        "\n",
        "스터디 그룹 내에는 한 주간 배운 내용으로 매주 쪽지 시험을 보는 룰이 있습니다.\n",
        "\n",
        "이 쪽지 시험의 평균이 70점이 넘으면 주말 스터디는 없습니다.\n",
        "\n",
        "주말 스터디의 여부를 True 또는 False로 출력해주세요.\n",
        "\n",
        "<br>\n",
        "A: 70, B: 75, C: 50, D: 80, E: 60\n",
        "\n",
        "<br>"
      ]
    },
    {
      "cell_type": "code",
      "execution_count": 4,
      "metadata": {
        "colab": {
          "base_uri": "https://localhost:8080/",
          "height": 0
        },
        "id": "lNN8oNpp-WGu",
        "outputId": "b9f71d8b-dce8-4b53-a388-83ce416316a1"
      },
      "outputs": [
        {
          "output_type": "stream",
          "name": "stdout",
          "text": [
            "True\n"
          ]
        }
      ],
      "source": [
        "#\n",
        "a = 70\n",
        "b = 75\n",
        "c = 50\n",
        "d = 80\n",
        "e = 60\n",
        "\n",
        "S = [a, b, c, d, e]\n",
        "AS = sum(S) / 5\n",
        "S = AS <=70\n",
        "# 해당값 이하(같은 값 포함) : <=\n",
        "print(S)"
      ]
    },
    {
      "cell_type": "markdown",
      "metadata": {
        "id": "2Jte2VLKdiPm"
      },
      "source": [
        "__[문제4]__\n",
        "\n",
        "<br>\n",
        "\n",
        "창의성, 시장성, 안정성, 수익성에 대한 각각의 평가 중 아래 기준에 부합하지 못하면 창업지원을 받을 수 없습니다.\n",
        "\n",
        "- 수익성 60점 이상\n",
        "- 창의성과 시장성 50점 이상\n",
        "- 시장성과 수익성을 더한 값의 절반이 안정성 보다 높아야 함\n",
        "\n",
        "\n",
        "다음 점수가 입력되었을때 창업 지원이 가능한지 여부를 True 또는 False로 출력해주세요.\n",
        "\n",
        "---\n",
        "\n",
        "창의성 : 62\n",
        "시장성 : 71\n",
        "안정성 : 68\n",
        "수익성 : 66\n",
        "<br>\n",
        "\n",
        "* 참고\n",
        "(creativity ,\n",
        "marketability ,\n",
        "stability ,\n",
        "profitability )"
      ]
    },
    {
      "cell_type": "markdown",
      "metadata": {
        "id": "cjBtFkRe-WGu"
      },
      "source": [
        "__Tips__\n",
        "* 비교 연산자와 논리 연산자의 결과를 고려해보아요"
      ]
    },
    {
      "cell_type": "code",
      "execution_count": 7,
      "metadata": {
        "id": "XJhvRO-2djBh",
        "colab": {
          "base_uri": "https://localhost:8080/",
          "height": 0
        },
        "outputId": "c0414a80-6dc9-42a5-e1b9-1a8f97409c27"
      },
      "outputs": [
        {
          "output_type": "stream",
          "name": "stdout",
          "text": [
            "True\n"
          ]
        }
      ],
      "source": [
        "# creativity = C , marketability = M , stability = S , profitability = P\n",
        "C = 62 #창의성\n",
        "M = 71 #시장성\n",
        "S = 68 #안정성\n",
        "P = 66 #수익성\n",
        "\n",
        "FI = P >= 60\n",
        "#수익성 60점 이상 (>=)\n",
        "SC = C >= 50 and M >= 50\n",
        "#창의성과 시장성 (포함 연결 and) 모두 50점 이상 (>=)\n",
        "TH = (M + P) / 2 > S\n",
        "#시장성과 수익성을 더한 값의 절반이 ((M+P)/2) 안정성보다 높아야한다 (>)\n",
        "\n",
        "S = FI and SC and TH #각 모든 점수는 항목들을 만족하는가? (and)\n",
        "print(S)"
      ]
    },
    {
      "cell_type": "markdown",
      "metadata": {
        "id": "EobzVZRl-WGv"
      },
      "source": [
        "## 모험가들의 레벨업 도전\n",
        "\n",
        "### [배경 이야기]\n",
        "\n",
        "당신은 마법사, 전사, 도적, 힐러 네 명의 모험가를 이끄는 리더입니다.\n",
        "\n",
        "각 캐릭터는 힘, 민첩, 지능, 체력이라는 능력치를 가지고 있습니다. 이 능력치들을 이용해 다양한 도전을 해결하고 사냥을 통해 경험치를 얻어 레벨업을 해야 합니다.\n",
        "\n",
        "<br>\n",
        "\n",
        "### [동료 캐릭터와 능력치 정보]\n",
        "\n",
        "마법사: 힘(10), 민첩(20), 지능(80), 체력(50)\n",
        "\n",
        "전사: 힘(80), 민첩(30), 지능(20), 체력(100)\n",
        "\n",
        "도적: 힘(40), 민첩(80), 지능(30), 체력(60)\n",
        "\n",
        "힐러: 힘(20), 민첩(40), 지능(70), 체력(70)\n",
        "\n",
        "<br>\n",
        "\n",
        "* 변수명을 영어로 변경해서 풀어보세요 !"
      ]
    },
    {
      "cell_type": "markdown",
      "metadata": {
        "id": "c8rLGyz0-WGv"
      },
      "source": [
        "<br>\n",
        "\n",
        "__[문제 1: 첫 번째 사냥]__\n",
        "\n",
        "마법사는 몬스터를 사냥하기 위해 마법을 사용합니다.\n",
        "\n",
        "마법을 사용하려면 지능이 50 이상이어야 합니다.\n",
        "\n",
        "마법사의 지능이 50 이상인지 확인하세요."
      ]
    },
    {
      "cell_type": "code",
      "execution_count": 9,
      "metadata": {
        "colab": {
          "base_uri": "https://localhost:8080/",
          "height": 0
        },
        "id": "s6kHT39h-WGv",
        "outputId": "f82143b6-b454-4e12-cfe1-aabde19d6690"
      },
      "outputs": [
        {
          "output_type": "stream",
          "name": "stdout",
          "text": [
            "True\n"
          ]
        }
      ],
      "source": [
        "Wz_P = 10\n",
        "Wz_D = 20\n",
        "Wz_I = 80\n",
        "Wz_H = 50\n",
        "\n",
        "Wz = Wz_I >= 50 #이상 (>=)\n",
        "print(Wz)"
      ]
    },
    {
      "cell_type": "markdown",
      "metadata": {
        "id": "xhy3HubB-WGv"
      },
      "source": [
        "<br>\n",
        "\n",
        "__[문제 2: 두 번째 사냥]__\n",
        "\n",
        "전사는 강력한 공격을 하기 위해 자신의 힘을 사용합니다.\n",
        "\n",
        "전사의 힘이 60 이상이고 체력이 80 이상인지 확인하세요."
      ]
    },
    {
      "cell_type": "code",
      "execution_count": 10,
      "metadata": {
        "colab": {
          "base_uri": "https://localhost:8080/",
          "height": 0
        },
        "id": "_zfaVvWp-WGv",
        "outputId": "569bcd17-e654-44a0-a7b3-c3aef99aac18"
      },
      "outputs": [
        {
          "output_type": "stream",
          "name": "stdout",
          "text": [
            "True\n"
          ]
        }
      ],
      "source": [
        "Wr_P = 80\n",
        "Wr_D = 30\n",
        "Wr_I = 20\n",
        "Wr_H = 100\n",
        "\n",
        "Wr = Wr_P >= 60 and Wr_H >= 80\n",
        "print(Wr)"
      ]
    },
    {
      "cell_type": "markdown",
      "metadata": {
        "id": "KHDsM_CK-WGv"
      },
      "source": [
        "<br>\n",
        "\n",
        "__[문제 3: 세 번째 사냥]__\n",
        "\n",
        "도적은 민첩함을 이용해 몬스터를 회피하고 공격합니다.\n",
        "\n",
        "도적의 민첩이 70 이상이거나 힘이 50 이상인지 확인하세요."
      ]
    },
    {
      "cell_type": "code",
      "execution_count": 12,
      "metadata": {
        "colab": {
          "base_uri": "https://localhost:8080/"
        },
        "id": "Rs-VlUpW-WGv",
        "outputId": "9c49270f-181a-45a0-c0c3-3bfd87ae856a"
      },
      "outputs": [
        {
          "output_type": "stream",
          "name": "stdout",
          "text": [
            "False\n"
          ]
        }
      ],
      "source": [
        "TI_P = 40\n",
        "TI_D = 80\n",
        "TI_I = 30\n",
        "TI_H = 60\n",
        "\n",
        "TI = TI_D >= 70 and TI_P >= 50\n",
        "print(TI)"
      ]
    },
    {
      "cell_type": "markdown",
      "metadata": {
        "id": "wlGIdNhV-WGv"
      },
      "source": [
        "<br>\n",
        "\n",
        "__[문제 4: 네 번째 사냥]__\n",
        "\n",
        "힐러는 파티의 체력을 회복시키기 위해 마법을 사용합니다.\n",
        "\n",
        "힐러의 지능이 60 이상이고, 체력이 50 이상인지 확인하세요."
      ]
    },
    {
      "cell_type": "code",
      "execution_count": 13,
      "metadata": {
        "colab": {
          "base_uri": "https://localhost:8080/"
        },
        "id": "0EuqdoEO-WGv",
        "outputId": "8985aea8-38ce-4802-bfb5-0684da801bce"
      },
      "outputs": [
        {
          "output_type": "stream",
          "name": "stdout",
          "text": [
            "True\n"
          ]
        }
      ],
      "source": [
        "HI_P = 20\n",
        "HI_D = 40\n",
        "HI_I = 70\n",
        "HI_H = 70\n",
        "\n",
        "HI = HI_I >= 60 and HI_H >= 50\n",
        "print(HI)"
      ]
    },
    {
      "cell_type": "markdown",
      "metadata": {
        "id": "BicIr3Vr-WGv"
      },
      "source": [
        "<br>\n",
        "\n",
        "__[문제 5: 레벨업]__\n",
        "\n",
        "모든 캐릭터가 사냥을 성공적으로 마쳤습니다. 이제 경험치를 얻어 레벨업을 해야 합니다.\n",
        "\n",
        "\n",
        "각 캐릭터의 경험치가 100 이상인지 print()를 이용해 확인해주세요.\n",
        "\n",
        "<br>\n",
        "\n",
        "경험치는 아래와 같습니다.\n",
        "\n",
        "마법사: 120\n",
        "\n",
        "전사: 150\n",
        "\n",
        "도적: 110\n",
        "\n",
        "힐러: 90\n",
        "\n"
      ]
    },
    {
      "cell_type": "code",
      "execution_count": 14,
      "metadata": {
        "colab": {
          "base_uri": "https://localhost:8080/"
        },
        "id": "Yef5GEmk-WGv",
        "outputId": "954e775e-a372-4a5c-ae60-9fcd7737c957"
      },
      "outputs": [
        {
          "output_type": "stream",
          "name": "stdout",
          "text": [
            "True\n",
            "True\n",
            "True\n",
            "False\n"
          ]
        }
      ],
      "source": [
        "Wz = 120\n",
        "Wr = 150\n",
        "TI = 110\n",
        "HI = 90\n",
        "\n",
        "Wz_LvUP = Wz >= 100\n",
        "Wr_LvUP = Wr >= 100\n",
        "TI_LvUP = TI >= 100\n",
        "HI_LvUP = HI >= 100\n",
        "\n",
        "print(Wz_LvUP)\n",
        "print(Wr_LvUP)\n",
        "print(TI_LvUP)\n",
        "print(HI_LvUP)\n",
        "\n",
        "#각 직업별 경험치 값을 입력 (=)\n",
        "#각 직업별 경험치 값이 100 이상인지 확인 (이상 : >=)\n",
        "#각 직업별 경험치 값이 100 이상인지 확인한 값을 출력"
      ]
    }
  ],
  "metadata": {
    "colab": {
      "provenance": [],
      "include_colab_link": true
    },
    "kernelspec": {
      "display_name": "Python 3",
      "name": "python3"
    },
    "language_info": {
      "name": "python"
    }
  },
  "nbformat": 4,
  "nbformat_minor": 0
}