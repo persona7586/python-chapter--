{
  "cells": [
    {
      "cell_type": "markdown",
      "metadata": {
        "id": "view-in-github",
        "colab_type": "text"
      },
      "source": [
        "<a href=\"https://colab.research.google.com/github/persona7586/python-chapter--/blob/main/task_5.ipynb\" target=\"_parent\"><img src=\"https://colab.research.google.com/assets/colab-badge.svg\" alt=\"Open In Colab\"/></a>"
      ]
    },
    {
      "cell_type": "markdown",
      "metadata": {
        "id": "gjOiVzDp4iNC"
      },
      "source": [
        "[문제]\n",
        "\n",
        "'Account' 클래스를 작성하세요.\n",
        "\n",
        "이 클래스는 소유자(owner)와 잔액(balance)을 속성으로 가지며, 잔액은 프라이빗 변수로 선언합니다.\n",
        "\n",
        "'deposit'와 'withdraw' 두 개의 메소드를 통해 잔액을 조작할 수 있도록 하세요.\n",
        "\n",
        "이 때, 잔액은 음수가 될 수 없도록 체크해야 합니다. 'Account' 객체를 생성하고,<br>\n",
        "입금 및 출금 작업을 시뮬레이션한 후, 최종 잔액을 출력하세요."
      ]
    },
    {
      "cell_type": "code",
      "source": [
        "class Account: #클래스 작성\n",
        "    def __init__(self, owner, balance):\n",
        "        self.owner = owner #속성1\n",
        "        self.balance = balance #속성2\n",
        "\n",
        "    def deposit(self, check): #메소드 1\n",
        "        if check > 0 : #잔액은 음수가 될 수 없도록 체크\n",
        "            self.balance += check\n",
        "            print('입금이 완료 되었습니다.')\n",
        "        else:\n",
        "            print('입금에 실패 하였습니다.')\n",
        "    def withdraw(self, check):  #메소드2\n",
        "        if 0 < check <=self.balance:\n",
        "            self.balance -= check\n",
        "            print('출금이 완료되었습니다.')\n",
        "        else:\n",
        "            print('출금에 실패했습니다.')\n",
        "\n",
        "    def bank_balance(self):\n",
        "        return self.balance\n",
        "\n",
        "account = Account('장태문', 10000000000000)\n",
        "account.deposit(1000000)\n",
        "account.withdraw(1000000)\n",
        "print(account.bank_balance())"
      ],
      "metadata": {
        "colab": {
          "base_uri": "https://localhost:8080/"
        },
        "id": "OKojXIRP4i0s",
        "outputId": "1e48c6bc-f3ca-412d-934b-ddafd65d7cff"
      },
      "execution_count": null,
      "outputs": [
        {
          "output_type": "stream",
          "name": "stdout",
          "text": [
            "입금이 완료 되었습니다.\n",
            "출금이 완료되었습니다.\n",
            "10000000000000\n"
          ]
        }
      ]
    }
  ],
  "metadata": {
    "language_info": {
      "name": "python"
    },
    "colab": {
      "provenance": [],
      "include_colab_link": true
    },
    "kernelspec": {
      "name": "python3",
      "display_name": "Python 3"
    }
  },
  "nbformat": 4,
  "nbformat_minor": 0
}
