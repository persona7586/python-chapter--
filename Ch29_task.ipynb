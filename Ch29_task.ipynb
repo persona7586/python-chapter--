{
  "cells": [
    {
      "cell_type": "markdown",
      "metadata": {
        "id": "view-in-github",
        "colab_type": "text"
      },
      "source": [
        "<a href=\"https://colab.research.google.com/github/persona7586/python-chapter--/blob/main/Ch29_task.ipynb\" target=\"_parent\"><img src=\"https://colab.research.google.com/assets/colab-badge.svg\" alt=\"Open In Colab\"/></a>"
      ]
    },
    {
      "cell_type": "markdown",
      "metadata": {
        "id": "I3gufpn-Nyu9"
      },
      "source": [
        "주어진 숫자가 짝수인지 확인하는 함수 is_even을 작성하세요. 짝수라면 True를, 아니라면 False를 반환하세요. 함수 내에서 조기 리턴을 활용하세요."
      ]
    },
    {
      "cell_type": "code",
      "source": [
        "def is_even(number): #함수 바로 def입력 후에 이름 is_even 넣어버리고 number매개변수까지 입력\n",
        "    return number % 2 == 0 #조기 리턴 바로 활용, 나머지 연산자로 짝수 나머지 값 활용, 비교연산자로 T,F반환 활용\n",
        "print(is_even(8)) #True\n",
        "print(is_even(7)) #False\n",
        "\n",
        "#is_even : 함수의 이름\n",
        "#number : 함수 호출 시 전달되는 숫자 값을 받을 매개변수, 여기에서는 숫자가 짝수인지 아닌지를 판단해서 True, False 반환\n",
        "#% = 나머지 연산자, 숫자가 짝수일 경우, number % 2의 결과는 0\n",
        "# == : 비교 연산자로 두 값이 같은지 여부를 확인 결과를 Boolean값인 True, False로 반환\n",
        "#print(is_even(8)) : number = 8 으로 전달 -> 계산 : 8 % 2 = 0 -> 조건식:0 == 0 -> True 반환\n",
        "#print(is_even(7)) : number = 7 으로 전달 -> 계산 : 7 % 2 = 1 -> 조건식:1 == 0 -> False 반환"
      ],
      "metadata": {
        "colab": {
          "base_uri": "https://localhost:8080/"
        },
        "id": "m9IVf9DLOUOC",
        "outputId": "76e06f44-5369-449e-bad3-6c43a89b9621"
      },
      "execution_count": null,
      "outputs": [
        {
          "output_type": "stream",
          "name": "stdout",
          "text": [
            "True\n",
            "False\n"
          ]
        }
      ]
    }
  ],
  "metadata": {
    "language_info": {
      "name": "python"
    },
    "colab": {
      "provenance": [],
      "include_colab_link": true
    },
    "kernelspec": {
      "name": "python3",
      "display_name": "Python 3"
    }
  },
  "nbformat": 4,
  "nbformat_minor": 0
}