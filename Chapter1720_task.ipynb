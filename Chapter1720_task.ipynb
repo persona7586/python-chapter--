{
  "cells": [
    {
      "cell_type": "markdown",
      "metadata": {
        "id": "view-in-github",
        "colab_type": "text"
      },
      "source": [
        "<a href=\"https://colab.research.google.com/github/persona7586/python-chapter--/blob/main/Chapter1720_task.ipynb\" target=\"_parent\"><img src=\"https://colab.research.google.com/assets/colab-badge.svg\" alt=\"Open In Colab\"/></a>"
      ]
    },
    {
      "cell_type": "markdown",
      "metadata": {
        "id": "aLkxKxnFLowa"
      },
      "source": [
        "안녕하세요. 수강생 여러분~! Chapter17 ~ 20 수업은 잘 들으셨나요?\n",
        "\n",
        "Chapter17 ~ 20의 수업 내용을 바탕으로 아래 문제를 풀어주시면 됩니다.\n",
        "\n",
        "\n",
        "<br>\n",
        "\n",
        "\n",
        "[**답변 입력 방법**]\n",
        "\n",
        "문제 아래에 있는 코드 입력창에 정답코드를 작성하신 후  __▷ 버튼을 클릭해 코드를 실행__ 해보세요<br>"
      ]
    },
    {
      "cell_type": "markdown",
      "metadata": {
        "id": "pYJ1dSggLwcG"
      },
      "source": [
        "__[문제1]__\n",
        "\n",
        "print_even 리스트 내에 있는 값 중 짝수만 화면에 출력되도록 print_score 함수를 생성 후 결과값을 출력해주세요\n",
        "\n",
        "print_even ([1, 3, 2, 10, 12, 11, 15])"
      ]
    },
    {
      "cell_type": "code",
      "execution_count": 9,
      "metadata": {
        "id": "PTqEeebbLmCA",
        "colab": {
          "base_uri": "https://localhost:8080/"
        },
        "outputId": "56ea9d94-9679-4f2f-db49-c60bee917380"
      },
      "outputs": [
        {
          "output_type": "stream",
          "name": "stdout",
          "text": [
            "2\n",
            "10\n",
            "12\n"
          ]
        }
      ],
      "source": [
        "print_even=([1,3,2,10,12,11,15])\n",
        "def print_score(numbers):\n",
        "    for num in numbers: #for문 사용\n",
        "        if num % 2 == 0: #짝수 판별\n",
        "            print(num)\n",
        "\n",
        "print_score(print_even)\n",
        "\n",
        "#for문의 흐름은 range부터 시작이 됩니다.\n",
        "#range에서 범위에 해당되는 숫자를 생성하고, 반복 횟수를 정해줍니다.\n",
        "#range에서 생성한 범위가 끝나지 않았으면, 다음 반복을 실행합니다."
      ]
    },
    {
      "cell_type": "markdown",
      "metadata": {
        "id": "WPipHKTPxvaG"
      },
      "source": [
        "---"
      ]
    },
    {
      "cell_type": "markdown",
      "metadata": {
        "id": "ZkGserEsQS0L"
      },
      "source": [
        "__[문제2]__\n",
        "\n",
        "비어있는 오즈 (oz) 클래스를 \"정의\" 해보세요."
      ]
    },
    {
      "cell_type": "code",
      "execution_count": 1,
      "metadata": {
        "id": "dJbcWWlwL0iK"
      },
      "outputs": [],
      "source": [
        "class oz : #oz 는 클래스의 이름\n",
        "    pass #아무것도 하지 않는다는 것을 의미\n",
        "    #oz class = 아무런 속성이나 메서드도 가지지 않음"
      ]
    },
    {
      "cell_type": "markdown",
      "metadata": {
        "id": "0imu39-UxvaH"
      },
      "source": [
        "---"
      ]
    },
    {
      "cell_type": "markdown",
      "metadata": {
        "id": "Ofy86rZfL1Mg"
      },
      "source": [
        "__[문제3]__\n",
        "\n",
        "오즈(oz) 클래스의 인스턴스를 \"생성\" 하고 이를 coding 변수로 할당해보세요."
      ]
    },
    {
      "cell_type": "code",
      "execution_count": null,
      "metadata": {
        "id": "5NhWiuULL2Xa"
      },
      "outputs": [],
      "source": [
        "coding = oz() #oz class 인스턴스 생성, coding이라는 변수에 할당"
      ]
    },
    {
      "cell_type": "markdown",
      "metadata": {
        "id": "1f0aI1V3xvaH"
      },
      "source": [
        "---"
      ]
    },
    {
      "cell_type": "markdown",
      "metadata": {
        "id": "5T6EMx8EL26b"
      },
      "source": [
        "[문제4]\n",
        "\n",
        "오즈(oz) 클래스에 \"클래스 정복\"을 출력하는 기본 생성자를 추가해주세요"
      ]
    },
    {
      "cell_type": "code",
      "execution_count": 5,
      "metadata": {
        "id": "Zq35PXA0L3-m",
        "colab": {
          "base_uri": "https://localhost:8080/"
        },
        "outputId": "4b2401ac-d867-49eb-a1be-85c2858714ea"
      },
      "outputs": [
        {
          "output_type": "stream",
          "name": "stdout",
          "text": [
            "클래스 정복\n"
          ]
        }
      ],
      "source": [
        "class oz:\n",
        "    def __init__(self): #기본 생성자 추가 = __init__ 메소드 = 클래스 인스턴스 생성될 때 자동으로 호출\n",
        "        print('클래스 정복')\n",
        "coding = oz()"
      ]
    },
    {
      "cell_type": "markdown",
      "metadata": {
        "id": "6GGrUK84xvaI"
      },
      "source": [
        "---"
      ]
    },
    {
      "cell_type": "markdown",
      "metadata": {
        "id": "htuycQWSL4l-"
      },
      "source": [
        "__[문제5]__\n",
        "\n",
        "오즈 (oz) 클래스에 (이름, 나이, 코딩레벨)을 받는 생성자를 추가해주세요\n",
        "\n",
        "coding = oz(\"김코\", 30, \"A\")\n"
      ]
    },
    {
      "cell_type": "code",
      "execution_count": 12,
      "metadata": {
        "id": "A7h3I8CWL5ox"
      },
      "outputs": [],
      "source": [
        "class oz :\n",
        "    def __init__(self, name, age, level) :\n",
        "        self.name = name #김코\n",
        "        self.age = age #30\n",
        "        self.level = level #A\n",
        "\n",
        "coding = oz(\"김코\", 30, \"A\") #oz클래스 인스턴스 생성, coding 변수에 할당"
      ]
    },
    {
      "cell_type": "markdown",
      "metadata": {
        "id": "L920Bh2ZxvaI"
      },
      "source": [
        "---"
      ]
    },
    {
      "cell_type": "markdown",
      "metadata": {
        "id": "ZGDLHI5xL6Bd"
      },
      "source": [
        "__[문제6]__\n",
        "\n",
        "5번 문제에서 생성한 인스턴스의 이름, 나이, 성별을 출력해주세요.\n",
        "\n",
        "\n",
        "\n",
        "출력 결과  ) <br>\n",
        "이름 : 김코  \n",
        "나이 : 30  \n",
        "코딩레벨 : A  \n",
        "\n",
        "__Tips__\n",
        "\n",
        "\n",
        "- 인스턴스 변수에 접근하여 값을 출력하면 됩니다  : )"
      ]
    },
    {
      "cell_type": "code",
      "execution_count": 10,
      "metadata": {
        "id": "qCrPejI_L8Wr",
        "colab": {
          "base_uri": "https://localhost:8080/"
        },
        "outputId": "9393e451-0b4e-4fb1-b1a5-8c1eb70d9963"
      },
      "outputs": [
        {
          "output_type": "stream",
          "name": "stdout",
          "text": [
            "김코\n",
            "30\n",
            "A\n"
          ]
        }
      ],
      "source": [
        "class oz :\n",
        "    def __init__(self, name, age, level) :\n",
        "        self.name = name\n",
        "        self.age = age\n",
        "        self.level = level\n",
        "\n",
        "coding = oz(\"김코\", 30, \"A\")\n",
        "\n",
        "print(coding.name)\n",
        "print(coding.age)\n",
        "print(coding.level)"
      ]
    },
    {
      "cell_type": "markdown",
      "metadata": {
        "id": "9bBqUSPzxvaI"
      },
      "source": [
        "---"
      ]
    },
    {
      "cell_type": "markdown",
      "metadata": {
        "id": "RmtPk-A1L8z4"
      },
      "source": [
        "__[문제7]__\n",
        "\n",
        "오즈 (oz) 클래스에서 이름, 나이, 성별을 출력하는 who() 메소드를 추가하고 who()메소드를 이용해 아래 출력 결과를 만들어주세요\n",
        "\n",
        "\n",
        "출력 결과 ) <br>\n",
        "이름: 김코, 나이: 30, 코딩레벨: A"
      ]
    },
    {
      "cell_type": "code",
      "execution_count": 4,
      "metadata": {
        "id": "fvrvm87vL_HZ",
        "colab": {
          "base_uri": "https://localhost:8080/"
        },
        "outputId": "d0ddbb2a-b251-4863-e3d0-7fa99b88d821"
      },
      "outputs": [
        {
          "output_type": "stream",
          "name": "stdout",
          "text": [
            "이름:김코,나이:30,코딩레벨:A\n"
          ]
        }
      ],
      "source": [
        "class oz:\n",
        "    def __init__(self, name, age, coding_level):\n",
        "        self.name = name\n",
        "        self.age = age\n",
        "        self.coding_level = coding_level\n",
        "    def who(self):\n",
        "        print(f'이름:{self.name},나이:{self.age},코딩레벨:{self.coding_level}')\n",
        "coding = oz(\"김코\", 30, \"A\")\n",
        "coding.who()"
      ]
    }
  ],
  "metadata": {
    "colab": {
      "provenance": [],
      "include_colab_link": true
    },
    "kernelspec": {
      "display_name": "Python 3",
      "name": "python3"
    },
    "language_info": {
      "codemirror_mode": {
        "name": "ipython",
        "version": 3
      },
      "file_extension": ".py",
      "mimetype": "text/x-python",
      "name": "python",
      "nbconvert_exporter": "python",
      "pygments_lexer": "ipython3",
      "version": "3.11.7"
    }
  },
  "nbformat": 4,
  "nbformat_minor": 0
}