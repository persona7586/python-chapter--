{
  "cells": [
    {
      "cell_type": "markdown",
      "metadata": {
        "id": "view-in-github",
        "colab_type": "text"
      },
      "source": [
        "<a href=\"https://colab.research.google.com/github/persona7586/python-chapter--/blob/main/task_6.ipynb\" target=\"_parent\"><img src=\"https://colab.research.google.com/assets/colab-badge.svg\" alt=\"Open In Colab\"/></a>"
      ]
    },
    {
      "cell_type": "markdown",
      "metadata": {
        "id": "qgHWRo77-iDa"
      },
      "source": [
        "requests 모듈을 사용하여, 웹 페이지의 HTML을 가져오는 간단한 웹 스크레이퍼를 작성하세요.\n",
        "\n",
        "'https://kream.co.kr/'에서<br>\n",
        "데이터를 가져와서 상태 코드와 HTML의 첫 100자를 출력하세요.<br>\n",
        "(실습 전 requests 모듈을 설치해야 함)"
      ]
    },
    {
      "cell_type": "code",
      "source": [
        "#requests 모듈을 써서 웹사이트에 HTTP GET 요청을 보내고, 응답 데이터를 분석해서 상태 코드와 HTML의 일부 내용을 출력\n",
        "\n",
        "import requests #requests라는 HTTP요청 라이브러리, 웹 서버와의 HTTP 통신을 간단하고 직관적으로 처리하기 위해 사용. 모듈을 코드에 포함시킨다는 의미\n",
        "\n",
        "url = 'https://kream.co.kr/' #HTTP 요청을 보낼 대상 웹사이트의 URL을 변수 url에 저장\n",
        "response = requests.get(url) #response : 요청에 대한 응답 객체를 저장하는 변수, requests.get(url) : 지정한 url로 HTTP GET 요청을 보냄\n",
        "\n",
        "print(f'상태코드 : {response.status_code}') #서버 응답의 상태 코드 출력\n",
        "print(f'HTML의 첫 100자:{response.text[:100]}') #{response.text[:100]} : 서버에 반환한 HTML 응답 본문(response.text)중 첫 100자 출력 [0:100]=[:100]\n"
      ],
      "metadata": {
        "colab": {
          "base_uri": "https://localhost:8080/"
        },
        "id": "Q5VlB0TH_jrc",
        "outputId": "5b8fde73-9711-42f5-daea-0359b099409d"
      },
      "execution_count": null,
      "outputs": [
        {
          "output_type": "stream",
          "name": "stdout",
          "text": [
            "상태코드 : 500\n",
            "HTML의 첫 100자:<!DOCTYPE html>\n",
            "<html lang=\"ko\">\n",
            "<head>\n",
            "<meta name=\"robots\" content=\"noindex, nofollow\" />\n",
            "<meta htt\n"
          ]
        }
      ]
    },
    {
      "cell_type": "markdown",
      "source": [
        "리퀘스트 설치\n",
        "power shell -> pip install request"
      ],
      "metadata": {
        "id": "MKGSQt8IBY-q"
      }
    }
  ],
  "metadata": {
    "language_info": {
      "name": "python"
    },
    "colab": {
      "provenance": [],
      "include_colab_link": true
    },
    "kernelspec": {
      "name": "python3",
      "display_name": "Python 3"
    }
  },
  "nbformat": 4,
  "nbformat_minor": 0
}