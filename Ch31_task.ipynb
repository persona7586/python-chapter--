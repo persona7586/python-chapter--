{
  "cells": [
    {
      "cell_type": "markdown",
      "metadata": {
        "id": "view-in-github",
        "colab_type": "text"
      },
      "source": [
        "<a href=\"https://colab.research.google.com/github/persona7586/python-chapter--/blob/main/Ch31_task.ipynb\" target=\"_parent\"><img src=\"https://colab.research.google.com/assets/colab-badge.svg\" alt=\"Open In Colab\"/></a>"
      ]
    },
    {
      "cell_type": "markdown",
      "metadata": {
        "id": "Z6ZwyEBG0X5E"
      },
      "source": [
        "문자열 리스트를 받아, 각 문자열의 길이를 출력하는 함수 print_lengths를 작성하세요."
      ]
    },
    {
      "cell_type": "code",
      "source": [
        "def print_lengths(strings):\n",
        "    for string in strings:\n",
        "        print(len(string))\n",
        "\n",
        "print_lengths([\"apple\", \"banana\", \"grape\"])\n",
        "\n",
        "\n",
        "\n",
        "# 함수 print_lengths를 작성 -> 일단 함수에서 def작성하고 함수명 print_lengths작성, 매개변수인 (strings) 입력\n",
        "# for문 : 리스트의 각 요소를 하나씩 순회\n",
        "# for string in strings -> 전달된 리스트([\"apple\", \"banana\", \"grape\"]) strings안에서 할당된 변수(첫 번째 반복 : apple, 두 번째 반복 : banana, 세 번째 반복 : grape) string을 순회 for\n",
        "# len(string) 문자열 string의 길이를 계산 = 문자열에 포함된 문자 개수 표현"
      ],
      "metadata": {
        "colab": {
          "base_uri": "https://localhost:8080/"
        },
        "id": "fPVX-4mk1ZCR",
        "outputId": "88bbb570-c49b-4a86-fb55-6e7d0bcc36d4"
      },
      "execution_count": null,
      "outputs": [
        {
          "output_type": "stream",
          "name": "stdout",
          "text": [
            "5\n",
            "6\n",
            "5\n"
          ]
        }
      ]
    },
    {
      "cell_type": "code",
      "source": [
        "# 문자열 값을 한줄로 나타내고 싶을때\n",
        "# 1. 리스트 내포\n",
        "\n",
        "def print_lengths(strings):\n",
        "    for string in strings:\n",
        "        print(len(string))\n",
        "\n",
        "print([len(string) for string in [\"apple\", \"banana\", \"grape\"]])\n",
        "\n",
        "# 2. map()함수 사용\n",
        "def print_lengths(strings):\n",
        "    for string in strings:\n",
        "        print(len(string))\n",
        "\n",
        "print(list(map(len, [\"apple\", \"banana\", \"grape\"])))"
      ],
      "metadata": {
        "colab": {
          "base_uri": "https://localhost:8080/"
        },
        "id": "KVSoClHw1_Gi",
        "outputId": "31a8dbd4-ad1f-436a-c909-9e27a02fa6de"
      },
      "execution_count": null,
      "outputs": [
        {
          "output_type": "stream",
          "name": "stdout",
          "text": [
            "[5, 6, 5]\n",
            "[5, 6, 5]\n"
          ]
        }
      ]
    }
  ],
  "metadata": {
    "language_info": {
      "name": "python"
    },
    "colab": {
      "provenance": [],
      "include_colab_link": true
    },
    "kernelspec": {
      "name": "python3",
      "display_name": "Python 3"
    }
  },
  "nbformat": 4,
  "nbformat_minor": 0
}