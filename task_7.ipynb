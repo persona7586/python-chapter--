{
  "cells": [
    {
      "cell_type": "markdown",
      "metadata": {
        "id": "view-in-github",
        "colab_type": "text"
      },
      "source": [
        "<a href=\"https://colab.research.google.com/github/persona7586/python-chapter--/blob/main/task_7.ipynb\" target=\"_parent\"><img src=\"https://colab.research.google.com/assets/colab-badge.svg\" alt=\"Open In Colab\"/></a>"
      ]
    },
    {
      "cell_type": "markdown",
      "metadata": {
        "id": "F-pz8ya_z33e"
      },
      "source": [
        "함수 실행 시간을 측정하는 데코레이터 timer_decorator를 작성하세요.\n",
        "\n",
        "임의의 함수가 실행되는 시간을 측정하여 \"함수 실행 시간: x.xx초\" 형태로 출력하세요."
      ]
    },
    {
      "cell_type": "code",
      "source": [
        "#실행 시 시간을 측정하는 형태의 출력문을 만들어라?\n",
        "#실행 시간을 내가 정하고 종료 시간까지도 내가 정해서 그 시간들을 기입되게 만들어보겠습니다.\n",
        "#그냥 타이머를 만들어보죠.\n",
        "#다른걸 입력할 경우 오류는 없습니다 그냥 뭘 입력하던 처음은 시작, 두번째는 종료로 만들겠습니다.\n",
        "\n",
        "import time #time 모듈을 가져와 사용할 때 필요한 구문으로 time 모듈은 시간과 관련된 다양한 기능을 제공해줌.\n",
        "            #datetime (as d)와 같이 시간과 날짜를 다루는 데 사용되지만 정밀 시간 측정과 시간지연의 면에서 time 모듈 사용이 적합하다 판단했음\n",
        "\n",
        "def timer_decorator(function):\n",
        "    def wrapper(*args, **kwargs): # *args와 **kwargs를 동시에 사용해서 위치 인자와 키워드 인자를 모두 받을 수 있어서 뭘 입력하든 처음은 시작, 두번째는 종료로 유도할 생각\n",
        "        input('<시작>을 입력하세요. 입력과 동시에 기록을 남겨드립Llㄷr ')  #입력 시 내용이 남을 수 있도록\n",
        "        start_time = time.time()  #시작을 입력하게 되면 그 후의 현재 시간을 초단위로 기록\n",
        "        print(f\"시작 시간: {time.strftime('%Y-%m-%d %H:%M:%S', time.localtime(start_time))}\") #현지 시간을 start_time = time.time()에 time.strftime 폼에 맞춰서 출력해줌\n",
        "\n",
        "        result = function(*args, **kwargs) # *args는 입력받은 모든 위치 인자를 튜플로 묶어서 반환하는 역할, **kwargs는 함수에 전달되는 키워드 인자를 딕셔너리로 받아오는 역할, 함수 호출 시 전달되는 키-값 쌍의 인자들(딕셔너리)을 받아 처리\n",
        "                                           # *args와 **kwargs를 동시에 사용해서 위치 인자와 키워드 인자를 모두 받을 수 있어서 뭘 입력하든 처음은 시작, 두번째는 종료로 유도할 생각\n",
        "        input('<종료>를 입력해서 멈추세요. 종료 기록도 남겨드립Llㄷr ')\n",
        "        end_time = time.time()  #시작을 입력하게 되면 그 후의 현재 시간을 초단위로 기록\n",
        "        print(f\"종료 시간: {time.strftime('%Y-%m-%d %H:%M:%S', time.localtime(end_time))}\")#현지 시간을 end_time = time.time()에 time.strftime 폼에 맞춰서 출력해줌\n",
        "\n",
        "        elapsed_time = end_time - start_time  #이왕 하는거 총 실행시간까지 end에서 start를 빼서 총 실행시간을 계산해줌\n",
        "        print(f'총 실행 시간: {elapsed_time:.2f}초') #elapsed_time이라는 끝나는 시간에서 시작 시간을 빼서 총 실행시간을 정의하는 변수를 지정했고 그 지정된 elapsed_time을 출력할 때 소숫점이 길어지지 않도록 .2f = 소숫점 둘째 자리까지 표현 설정해줌\n",
        "        print('기록을 확인하십시5') #마지막에 기록을 확인하라는 멘트 안내까지 해줌\n",
        "        return result #wrapper 함수 내부에서 사용, 원래 함수(function)의 반환값을 다시 반환하는 역할, 데코레이터를 사용해도 원래 함수(function)의 동작과 반환값이 유지되도록 보장\n",
        "    return wrapper #timer_decorator 내부에서 사용 (들여쓰기 위치가 중요), timer_decorator가 호출된 결과로 wrapper함수를 반환\n",
        "\n",
        "@timer_decorator #타임 데코레이터를 적용해서 함수 실행 전에 시작 시간이랑 종료시간, 실행시간까지 자동으로 출력하도록 해줌\n",
        "def example_function():\n",
        "    print('현 시간부터 종료까지 시간이 계산됩Llㄷr')\n",
        "\n",
        "example_function()"
      ],
      "metadata": {
        "colab": {
          "base_uri": "https://localhost:8080/"
        },
        "id": "76AZAvOA_IkE",
        "outputId": "8f587aa3-2965-48f2-bcd5-b0f4835a4b45"
      },
      "execution_count": null,
      "outputs": [
        {
          "output_type": "stream",
          "name": "stdout",
          "text": [
            "<시작>을 입력하세요. 입력과 동시에 기록을 남겨드립Llㄷr 시작\n",
            "시작 시간: 2025-01-13 14:45:45\n",
            "현 시간부터 종료까지 시간이 계산됩Llㄷr\n",
            "<종료>를 입력해서 멈추세요. 종료 기록도 남겨드립Llㄷr 응?\n",
            "종료 시간: 2025-01-13 14:45:50\n",
            "총 실행 시간: 5.12초\n",
            "기록을 확인하십시5\n"
          ]
        }
      ]
    },
    {
      "cell_type": "code",
      "source": [
        "import time\n",
        "\n",
        "\n",
        "def timer_decorator(function):\n",
        "    def wrapper(*args, **kwargs):\n",
        "        input('<시작>을 입력하세요. 입력과 동시에 기록을 남겨드립Llㄷr ')\n",
        "        start_time = time.time()\n",
        "        print(f\"시작 시간: {time.strftime('%Y-%m-%d %H:%M:%S', time.localtime(start_time))}\")\n",
        "\n",
        "        result = function(*args, **kwargs)\n",
        "\n",
        "        input('<종료>를 입력해서 멈추세요. 종료 기록도 남겨드립Llㄷr ')\n",
        "        end_time = time.time()\n",
        "        print(f\"종료 시간: {time.strftime('%Y-%m-%d %H:%M:%S', time.localtime(end_time))}\")\n",
        "\n",
        "        elapsed_time = end_time - start_time\n",
        "        print(f'총 실행 시간: {elapsed_time:.2f}초')\n",
        "        print('기록을 확인하십시5')\n",
        "        return result\n",
        "    return wrapper\n",
        "\n",
        "@timer_decorator\n",
        "def example_function():\n",
        "    print('현 시간부터 종료까지 시간이 계산됩Llㄷr')\n",
        "\n",
        "example_function()"
      ],
      "metadata": {
        "colab": {
          "base_uri": "https://localhost:8080/"
        },
        "id": "0HswELEkIYPk",
        "outputId": "c43dd035-4759-4a5d-d471-98bde7439158"
      },
      "execution_count": null,
      "outputs": [
        {
          "output_type": "stream",
          "name": "stdout",
          "text": [
            "<시작>을 입력하세요. 입력과 동시에 기록을 남겨드립Llㄷr 시작\n",
            "시작 시간: 2025-01-13 14:47:34\n",
            "현 시간부터 종료까지 시간이 계산됩Llㄷr\n",
            "<종료>를 입력해서 멈추세요. 종료 기록도 남겨드립Llㄷr 종료\n",
            "종료 시간: 2025-01-13 14:47:41\n",
            "총 실행 시간: 6.84초\n",
            "기록을 확인하십시5\n"
          ]
        }
      ]
    }
  ],
  "metadata": {
    "language_info": {
      "name": "python"
    },
    "colab": {
      "provenance": [],
      "include_colab_link": true
    },
    "kernelspec": {
      "name": "python3",
      "display_name": "Python 3"
    }
  },
  "nbformat": 4,
  "nbformat_minor": 0
}