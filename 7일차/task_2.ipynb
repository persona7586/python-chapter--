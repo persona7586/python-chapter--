{
  "cells": [
    {
      "cell_type": "markdown",
      "metadata": {
        "id": "view-in-github",
        "colab_type": "text"
      },
      "source": [
        "<a href=\"https://colab.research.google.com/github/persona7586/python-chapter--/blob/main/task_2.ipynb\" target=\"_parent\"><img src=\"https://colab.research.google.com/assets/colab-badge.svg\" alt=\"Open In Colab\"/></a>"
      ]
    },
    {
      "cell_type": "markdown",
      "metadata": {
        "id": "w8t06ylnl5mK"
      },
      "source": [
        "파일을 읽어서 내용을 출력하는 프로그램을 작성하세요.\n",
        "\n",
        "- 파일이 존재하지 않을 때 발생하는 FileNotFoundError를 처리\n",
        "- 파일이 존재하지 않을 경우 \"파일을 찾을 수 없습니다.\"라는 메시지를 출력"
      ]
    },
    {
      "cell_type": "code",
      "source": [
        "try:\n",
        "    with open('file.txt','r') as f:\n",
        "        print(f.read())\n",
        "except FileNotFoundError:\n",
        "    print('파일을 찾을 수 없습니')"
      ],
      "metadata": {
        "id": "XSz06DHMtdGH",
        "colab": {
          "base_uri": "https://localhost:8080/"
        },
        "outputId": "d2fab549-ad84-45d1-a34a-cee77fdddffb"
      },
      "execution_count": null,
      "outputs": [
        {
          "output_type": "stream",
          "name": "stdout",
          "text": [
            "파일을 찾을 수 없습니\n"
          ]
        }
      ]
    },
    {
      "cell_type": "markdown",
      "source": [
        "##try\n",
        "- 예외 or 오류가 발생할 가능성이 있는 코드를 감싸는 블록\n",
        "- try 블록 내에서 오류가 발생하면 프로그램이 중단되지 않고, 해당 오류를 처리할 수 있음  \n",
        "  \n",
        "  \n",
        "**with**\n",
        "파일을 열고 닫는 작업을 자동으로 처리, 파일을 열 때 자원을 확보하고, 파일 작업이 끝나면 자동으로 파일을 닫아줌, with 블록을 사용하면 파일을 명시적으로 닫는 f.close()를 호출할 필요 없음\n",
        "\n",
        "**as f** : 열린 파일 객체를 변수 f에 할당, 이후 파일 작업(읽기, 쓰기 등)에 대해 f를 통해 접근할 수 있음\n",
        "\n",
        "파일을 읽어서 내용을 출력하는 프로그램이니 파일을 여는 함수를 이용해야 함\n",
        "-> **open('file.txt','r')**  'r' : 읽기 모드\n",
        "\n",
        "**f.read()**\n",
        "파일의 전체 내용을 읽어서 문자열로 반환\n",
        "f -> open()으로 열어 놓은 파일 객체\n",
        "read()를 호출하면 파일의 내용을 한 번에 읽어옴\n",
        "\n",
        "**except**\n",
        "예외 처리를 위한 키워드, 특정 예외를 처리하는 역할"
      ],
      "metadata": {
        "id": "xtFZZlrnRXaO"
      }
    }
  ],
  "metadata": {
    "language_info": {
      "name": "python"
    },
    "colab": {
      "provenance": [],
      "include_colab_link": true
    },
    "kernelspec": {
      "name": "python3",
      "display_name": "Python 3"
    }
  },
  "nbformat": 4,
  "nbformat_minor": 0
}
