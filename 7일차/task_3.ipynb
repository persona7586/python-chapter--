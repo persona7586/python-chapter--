{
  "cells": [
    {
      "cell_type": "markdown",
      "metadata": {
        "id": "view-in-github",
        "colab_type": "text"
      },
      "source": [
        "<a href=\"https://colab.research.google.com/github/persona7586/python-chapter--/blob/main/task_3.ipynb\" target=\"_parent\"><img src=\"https://colab.research.google.com/assets/colab-badge.svg\" alt=\"Open In Colab\"/></a>"
      ]
    },
    {
      "cell_type": "markdown",
      "metadata": {
        "id": "rtTbInxbeSn6"
      },
      "source": [
        "사용자로부터 여러 개의 숫자를 입력받아 리스트에 저장한 후, 사용자가 'done'이라고 입력할 때까지 계속 입력받으세요.\n",
        "\n",
        "- 입력 중 숫자가 아닌 값이 입력되면 ValueError를 처리\n",
        "- 숫자 외 값이 입력된 경우 어떤 값이 잘못 입력되었는지 사용자에게 알려주는 문구 출력<br>\n",
        "  (예: f\"잘못된 값: {변수}. 숫자를 입력해주세요.\")\n",
        "\n"
      ]
    },
    {
      "cell_type": "code",
      "source": [
        "number_list = [] #여러개의 숫자를 입력받기 위한 변수를 설정 => number_list, 리스트를 저장하기 위해 []를 설정\n",
        "while True:    #계속 입력 받는다? => 반복문 while 사용 while반복문은 반복 횟수가 불확실하고 조건이 바뀔 때까지 반복할 때 유용하다.\n",
        "    try:           #뭐가 아닌값? 불안정하다? 오류가 발생할 가능성이 있다? try로 코드를 감싸서 해당 오류를 처리\n",
        "        num = input('숫자를 입력해주세요 :')   #입력을 받아야 하니 input('')\n",
        "\n",
        "        if num == 'done': #done이 입력되면 멈추기 위해 만약 입력받은 num이 done과 같을 때 break 한다는 값을 입력\n",
        "            break\n",
        "\n",
        "        number_list.append(int(num)) #계속 입력 받으라고 했으니까 정수로 입력되는 숫자를 새로 추가하기 위해 append를 사용해서 number_list의 마지막에 계속 추가\n",
        "\n",
        "    except ValueError: #예외처리를 위해 except를 활용\n",
        "        print( f\"잘못된 값: {num}. 숫자를 입력해주세요.\")#예외처리가 났을 때 안내를 잘못된 값으로 입력한 num을 보여주고, 숫자를 입력 해 달라는 안내를 해준다.\n"
      ],
      "metadata": {
        "colab": {
          "base_uri": "https://localhost:8080/"
        },
        "id": "Firlh65jg4_o",
        "outputId": "df170c0f-f085-4989-d9d4-d13346618454"
      },
      "execution_count": null,
      "outputs": [
        {
          "name": "stdout",
          "output_type": "stream",
          "text": [
            "숫자를 입력해주세요 :1\n",
            "숫자를 입력해주세요 :5\n",
            "숫자를 입력해주세요 :8\n",
            "숫자를 입력해주세요 :4\n",
            "숫자를 입력해주세요 :g\n",
            "잘못된 값: g. 숫자를 입력해주세요.\n",
            "숫자를 입력해주세요 :l\n",
            "잘못된 값: l. 숫자를 입력해주세요.\n",
            "숫자를 입력해주세요 :7\n",
            "숫자를 입력해주세요 :done\n"
          ]
        }
      ]
    }
  ],
  "metadata": {
    "language_info": {
      "name": "python"
    },
    "colab": {
      "provenance": [],
      "include_colab_link": true
    },
    "kernelspec": {
      "name": "python3",
      "display_name": "Python 3"
    }
  },
  "nbformat": 4,
  "nbformat_minor": 0
}
