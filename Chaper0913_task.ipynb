{
  "cells": [
    {
      "cell_type": "markdown",
      "metadata": {
        "id": "view-in-github",
        "colab_type": "text"
      },
      "source": [
        "<a href=\"https://colab.research.google.com/github/persona7586/python-chapter--/blob/main/Chaper0913_task.ipynb\" target=\"_parent\"><img src=\"https://colab.research.google.com/assets/colab-badge.svg\" alt=\"Open In Colab\"/></a>"
      ]
    },
    {
      "cell_type": "markdown",
      "metadata": {
        "id": "fD4Qab2qYgOm"
      },
      "source": [
        "안녕하세요. 수강생 여러분~! Chapter09 ~ 13 수업은 잘 들으셨나요?\n",
        "\n",
        "Chapter09 ~ 13의 수업 내용을 바탕으로 아래 문제를 풀어주시면 됩니다.\n",
        "\n",
        "\n",
        "<br>\n",
        "\n",
        "\n",
        "[**답변 입력 방법**]\n",
        "\n",
        "문제 아래에 있는 코드 입력창에 정답코드를 작성하신 후  __▷ 버튼을 클릭해 코드를 실행__ 해보세요<br>"
      ]
    },
    {
      "cell_type": "markdown",
      "metadata": {
        "id": "2z--7QYrBpgX"
      },
      "source": [
        "---"
      ]
    },
    {
      "cell_type": "markdown",
      "metadata": {
        "id": "iYGKAycpBpgX"
      },
      "source": [
        "__[문제0]__\n",
        "\n",
        "\n",
        "오즈 코딩 스쿨 백엔드 8기 과정에 참여한 수강생 중 3명의 수강생이 자율적으로 스터디 그룹을 결성했습니다.\n",
        "\n",
        "스터디 그룹 내에는 한 주간 배운 내용으로 매주 쪽지 시험을 보는 룰이 있습니다. 점수는 채점자 마음입니다.\n",
        "\n",
        "쪽지 시험의 점수를 직접 입력받고, 점수의 합을 출력해주세요!\n",
        "\n",
        "\n",
        "<br>\n",
        "\n"
      ]
    },
    {
      "cell_type": "code",
      "execution_count": 43,
      "metadata": {
        "id": "JDD-c-MCBpgX",
        "colab": {
          "base_uri": "https://localhost:8080/"
        },
        "outputId": "0aaf3d33-a83b-4ce3-dd3f-a52d7d90cf70"
      },
      "outputs": [
        {
          "output_type": "stream",
          "name": "stdout",
          "text": [
            "100 90 80\n",
            "270\n"
          ]
        }
      ],
      "source": [
        "태문, 태문2, 태문3 = map(int, input().split())\n",
        "print(태문+태문2+태문3)\n",
        "\n",
        "#score1 = int(input())\n",
        "#score2 = int(input())\n",
        "#score3 = int(input())\n",
        "#total_score = score1 + score2 + score3\n",
        "#print(total_score)\n",
        "\n",
        "#input() : 사용자 입력 항목을 str 타입으로 변환\n",
        "#split() : 인자로 들어온 문자열을 구분자(delimeter)로 분리, str 타입의 list로 반환\n",
        "#map 없이 숫자 세 개 입력받기\n",
        "#map 사용해서 같은 일을 더 짧은 코드로 활용 : num1, num2, num3 = map(int, input().split())\n",
        "#정수 처리 명령어 : int()"
      ]
    },
    {
      "cell_type": "markdown",
      "metadata": {
        "id": "swqdcIl8Yn-c"
      },
      "source": [
        "__[문제1]<br>__\n",
        "\n",
        "movie_rank 리스트에는 아래와 같이 네 개의 영화 제목이 바인딩되어 있다.\n",
        "\n",
        "\"비밀\"을 \"나폴레옹\"과 \"괴물\" 사이에 추가해주세요\n",
        "\n",
        "<br>\n",
        "\n",
        "```\n",
        "movie = ['서울의 봄', '나폴레옹', '괴물', '베트맨']\n",
        "```\n",
        "\n"
      ]
    },
    {
      "cell_type": "code",
      "execution_count": 3,
      "metadata": {
        "id": "vjUhNFdBYo2n",
        "colab": {
          "base_uri": "https://localhost:8080/"
        },
        "outputId": "b101f155-32fe-46b7-fccc-5291c001c06c"
      },
      "outputs": [
        {
          "output_type": "stream",
          "name": "stdout",
          "text": [
            "['서울의 봄', '나폴레옹', '비밀', '괴물', '베트맨']\n"
          ]
        }
      ],
      "source": [
        "movie = ['서울의 봄', '나폴레옹', '괴물', '베트맨']\n",
        "movie.insert(2, '비밀')\n",
        "print(movie)\n",
        "#특정 위치에 값을 추가하는 메소드 : insert()\n",
        "#insert() 메소드는 첫 번째 인자로 삽입할 위치의 인덱스를, 두 번째 인자로 삽입할 값을 받음.\n",
        "#파이썬에서 리스트의 인덱스는 0부터 시작하기 때문에 \"나폴레옹\"(인덱스 1) 다음에 \"비밀\"을 추가하기 위해 2를 사용\n",
        "#서울의 봄(0), 나폴레옹(1), 비밀(2), 괴물(3), 베트맨(4)"
      ]
    },
    {
      "cell_type": "markdown",
      "metadata": {
        "id": "_h9RrfjFBpgY"
      },
      "source": [
        "---"
      ]
    },
    {
      "cell_type": "markdown",
      "metadata": {
        "id": "KZBNuM5MYpZR"
      },
      "source": [
        "__[문제1-2]<br>__\n",
        "\n",
        "movie_rank 리스트에서 '베트맨'를 삭제해주세요\n",
        "\n",
        "<br>\n",
        "\n",
        "```\n",
        "movie = ['서울의 봄', '나폴레옹', '비밀', '괴물', '베트맨']\n",
        "```\n",
        "\n"
      ]
    },
    {
      "cell_type": "code",
      "execution_count": 35,
      "metadata": {
        "id": "cPezrT7cYreh",
        "colab": {
          "base_uri": "https://localhost:8080/"
        },
        "outputId": "2c57091c-2388-4b58-ff05-31763665dffa"
      },
      "outputs": [
        {
          "output_type": "stream",
          "name": "stdout",
          "text": [
            "['서울의 봄', '나폴레옹', '비밀', '괴물']\n"
          ]
        }
      ],
      "source": [
        "movie = ['서울의 봄', '나폴레옹', '비밀', '괴물', '베트맨']\n",
        "\n",
        "movie.remove('베트맨')\n",
        "print(movie)\n",
        "#python리스트 특정 값 삭제 함수 : remove()\n",
        "#.remove('')를 활용하면 리스트에서 '베트맨'이라는 값을 찾아 제거\n",
        "# remove() 함수는 리스트에서 해당 값이 없을 경우 ValueError를 발생시키므로, 해당 값이 리스트에 있는지 확인 후 삭제할 것"
      ]
    },
    {
      "cell_type": "markdown",
      "metadata": {
        "id": "i8EJYPY0YsAe"
      },
      "source": [
        "__[문제2]<br>__\n",
        "\n",
        "[언어1]과 [언어2] 리스트가 있을 때 언어1과 언어2의 원소를 모두 갖고 있는 [언어모음]이라는 list를 만들어주세요\n",
        "\n",
        "```lang1 = [\"C\", \"C++\", \"JAVA\"]```<br>\n",
        "```lang2 = [\"Python\", \"Go\", \"C#\"]```  \n",
        "\n",
        "<br>\n",
        "실행 예)\n",
        "언어들\n",
        "['C', 'C++', 'JAVA', 'Python', 'Go', 'C#']"
      ]
    },
    {
      "cell_type": "code",
      "execution_count": 45,
      "metadata": {
        "id": "L_Wm6-DUBpgZ",
        "colab": {
          "base_uri": "https://localhost:8080/"
        },
        "outputId": "cfc8c759-01b9-4173-bc93-cfcf62e91a9c"
      },
      "outputs": [
        {
          "output_type": "stream",
          "name": "stdout",
          "text": [
            "['C', 'C++', 'JAVA', 'Python', 'Go', 'C#']\n",
            "['C', 'C++', 'JAVA', 'Python', 'Go', 'C#']\n"
          ]
        }
      ],
      "source": [
        "lang1 = [\"C\", \"C++\", \"JAVA\"]\n",
        "lang2 = [\"Python\", \"Go\", \"C#\"]\n",
        "언어모음 = lang1 + lang2\n",
        "print(언어모음)\n",
        "# '+'연산자 사용으로 두 개의 리스트를 합체\n",
        "\n",
        "lang1 = [\"C\", \"C++\", \"JAVA\"]\n",
        "lang2 = [\"Python\", \"Go\", \"C#\"]\n",
        "lang1.extend(lang2)\n",
        "print(lang1)\n",
        "\n",
        "# extend() : 리스트의 끝에 다른 리스트의 모든 항목을 추가"
      ]
    },
    {
      "cell_type": "markdown",
      "metadata": {
        "id": "kKbkJdDaBpgZ"
      },
      "source": [
        "---"
      ]
    },
    {
      "cell_type": "markdown",
      "metadata": {
        "id": "5VFysaYRwT69"
      },
      "source": [
        "__[문제3]<br>__\n",
        "\n",
        "다음 리스트에서 최댓값과 최솟값, 그리고 평균을 출력해주세요.\n",
        "<br>\n",
        "\n",
        "```\n",
        "nums = [1, 2, 3, 4, 5, 6, 7, 9, 10]\n",
        "```\n",
        "\n"
      ]
    },
    {
      "cell_type": "code",
      "execution_count": 46,
      "metadata": {
        "id": "Iwc_79DkBpgZ",
        "colab": {
          "base_uri": "https://localhost:8080/"
        },
        "outputId": "49013875-be54-476c-f6ea-5818e64ac6df"
      },
      "outputs": [
        {
          "output_type": "stream",
          "name": "stdout",
          "text": [
            "최댓값 :  10\n",
            "최솟값 :  1\n",
            "평균값 :  5.222222222222222\n"
          ]
        }
      ],
      "source": [
        "nums = [1, 2, 3, 4, 5, 6, 7, 9, 10]\n",
        "print(\"최댓값 : \", max(nums))\n",
        "print(\"최솟값 : \", min(nums))\n",
        "print(\"평균값 : \", sum(nums) / len(nums))\n",
        "#최댓값 함수 : max()\n",
        "#최솟값 : min()\n",
        "#모든 요소 더한 값 : sum()\n",
        "#리스트의 길이 반환 : len() ex) [1, 2, 3, 4, 5, 6, 7, 9, 10] = 9"
      ]
    },
    {
      "cell_type": "markdown",
      "metadata": {
        "id": "JTq0uU3KBpgZ"
      },
      "source": [
        "---"
      ]
    },
    {
      "cell_type": "markdown",
      "metadata": {
        "id": "5_IA50IQE2AM"
      },
      "source": [
        "__[문제4]__\n",
        "\n",
        "다음 리스트에 저장된 데이터의 개수를 화면에 구해주세요\n",
        "\n",
        "```cook = [\"피자\", \"김밥\", \"만두\", \"양념치킨\", \"족발\", \"피자\", \"김치만두\", \"쫄면\"]```"
      ]
    },
    {
      "cell_type": "code",
      "execution_count": 47,
      "metadata": {
        "id": "iRDvWnF8wTXa",
        "colab": {
          "base_uri": "https://localhost:8080/"
        },
        "outputId": "a17bec5b-0f9d-4078-80cd-1a3070612ad8"
      },
      "outputs": [
        {
          "output_type": "stream",
          "name": "stdout",
          "text": [
            "8\n"
          ]
        }
      ],
      "source": [
        "cook = [\"피자\", \"김밥\", \"만두\", \"양념치킨\", \"족발\", \"피자\", \"김치만두\", \"쫄면\"]\n",
        "print(len(cook))\n",
        "#리스트의 길이 반환, 리스트 저장 데이터 개수 구하는 함수 : len()"
      ]
    },
    {
      "cell_type": "markdown",
      "metadata": {
        "id": "iA11Vck9BpgZ"
      },
      "source": [
        "---"
      ]
    },
    {
      "cell_type": "markdown",
      "metadata": {
        "id": "DBowTjJgBpgZ"
      },
      "source": [
        "---"
      ]
    },
    {
      "cell_type": "markdown",
      "metadata": {
        "id": "Cp7IpuJBFcq2"
      },
      "source": [
        "__[문제5]__\n",
        "\n",
        "price 변수에는 날짜와 종가 정보가 저장돼 있습니다.\n",
        "날짜 정보를 제외하고 가격 정보만을 출력해주세요\n",
        "\n",
        "```price = ['20180728', 100, 130, 140, 150, 160, 170]```\n",
        "\n",
        "<br>\n",
        "출력 예) [100, 130, 140, 150, 160, 170]"
      ]
    },
    {
      "cell_type": "code",
      "execution_count": 48,
      "metadata": {
        "id": "BpMb0bHPFdKF",
        "colab": {
          "base_uri": "https://localhost:8080/"
        },
        "outputId": "b1eca079-ee7f-41ab-e541-368c510d7f8e"
      },
      "outputs": [
        {
          "output_type": "stream",
          "name": "stdout",
          "text": [
            "[100, 130, 140, 150, 160, 170]\n"
          ]
        }
      ],
      "source": [
        "price = ['20180728', 100, 130, 140, 150, 160, 170]\n",
        "N_print = price[1:]\n",
        "print(N_print)\n",
        "\n",
        "#price[1:] = price 리스트의 첫 번째 인덱스부터 끝 까지의 값을 선택 (슬라이싱)\n",
        "#파이썬에서 리스트의 인덱스는 0부터 시작하기 때문에 1부터 선택을 하게되면 0에 위치한 '20180728'값은 제외됨"
      ]
    },
    {
      "cell_type": "markdown",
      "metadata": {
        "id": "BOf6PVjlBpgZ"
      },
      "source": [
        "---"
      ]
    },
    {
      "cell_type": "markdown",
      "metadata": {
        "id": "1DwclZivGe72"
      },
      "source": [
        "__[문제6]__\n",
        "\n",
        "<br>\n",
        "다음 딕셔너리를 사용하여 메로나 가격을 출력해주세요\n",
        "\n",
        "```ice = {'메로나': 1000,```<br>\n",
        "&emsp;&emsp;&emsp;&emsp;```'폴로포': 1200,```<br>\n",
        "&emsp;&emsp;&emsp;&emsp;```'빵빠레': 1800,```<br>\n",
        "&emsp;&emsp;&emsp;&emsp;```'죠스바': 1200,```<br>\n",
        "&emsp;&emsp;&emsp;&emsp;```'월드콘': 1500}```<br>\n",
        "\n",
        "<br>\n",
        "출력 예) 메로나 가격: 1000"
      ]
    },
    {
      "cell_type": "code",
      "execution_count": 51,
      "metadata": {
        "id": "jADTPFzOHcKk",
        "colab": {
          "base_uri": "https://localhost:8080/"
        },
        "outputId": "b59c6d9e-160a-4fc4-d25c-541c62ba0c64"
      },
      "outputs": [
        {
          "output_type": "stream",
          "name": "stdout",
          "text": [
            "메로나의 가격 1000 원\n"
          ]
        }
      ],
      "source": [
        "ice = {'메로나': 1000,'폴로포': 1200,'빵빠레': 1800,'죠스바': 1200,'월드콘': 1500}\n",
        "print('메로나의 가격', ice['메로나'],'원') #딕셔너리 ice에서 '메로나'라는 키에 해당하는 값 반환\n",
        "# 딕셔너리에서 특정 키에 대응하는 값 : 딕셔너리[키]\n",
        "# 딕셔너리 장점 : 키와 값을 쌍으로 저장해서 효율적 사용이 가능함"
      ]
    },
    {
      "cell_type": "markdown",
      "metadata": {
        "id": "U-YjlE2OBpgZ"
      },
      "source": [
        "---"
      ]
    },
    {
      "cell_type": "markdown",
      "metadata": {
        "id": "mBs2AaqcJAXN"
      },
      "source": [
        "__[문제6-1]__\n",
        "\n",
        "다음 딕셔너리에서 메로나의 가격을 1300으로 수정해주세요\n",
        "\n",
        "```ice = {'메로나': 1000,```<br>\n",
        "&emsp;&emsp;&emsp;&emsp;```'폴로포': 1200,```<br>\n",
        "&emsp;&emsp;&emsp;&emsp;```'빵빠레': 1800,```<br>\n",
        "&emsp;&emsp;&emsp;&emsp;```'죠스바': 1200,```<br>\n",
        "&emsp;&emsp;&emsp;&emsp;```'월드콘': 1500}```<br>"
      ]
    },
    {
      "cell_type": "code",
      "execution_count": 23,
      "metadata": {
        "id": "C2RyUgoTJKsF",
        "colab": {
          "base_uri": "https://localhost:8080/"
        },
        "outputId": "07e90879-dc50-4295-e5cb-2f0bab5c6ccc"
      },
      "outputs": [
        {
          "output_type": "stream",
          "name": "stdout",
          "text": [
            "{'메로나': 1300, '폴로포': 1200, '빵빠레': 1800, '죠스바': 1200, '월드콘': 1500}\n"
          ]
        }
      ],
      "source": [
        "ice['메로나'] = 1300\n",
        "print(ice)\n",
        "# ice['메로나'] = 1300은 딕셔너리 ice에서 '메로나'라는 키에 해당하는 값을 1300으로 변경"
      ]
    },
    {
      "cell_type": "markdown",
      "metadata": {
        "id": "s48_1lcOBpga"
      },
      "source": [
        "---"
      ]
    },
    {
      "cell_type": "markdown",
      "metadata": {
        "id": "_ZdcVEtTJKS1"
      },
      "source": [
        "__[문제7]__\n",
        "\n",
        "아래 순서대로 주어진 수강생 이름과 등급을 하나의 딕셔너리로 만드는 코드를 작성해주세요\n",
        "\n",
        "\n",
        "names : 나이썬, 김자바, 김씨, 박씨샵  \n",
        "grades :   B       B      A      C\n"
      ]
    },
    {
      "cell_type": "code",
      "execution_count": 27,
      "metadata": {
        "id": "7RyqlYwpJOp7",
        "colab": {
          "base_uri": "https://localhost:8080/"
        },
        "outputId": "b903379d-ae7e-4af5-8b44-82589e5c6652"
      },
      "outputs": [
        {
          "output_type": "stream",
          "name": "stdout",
          "text": [
            "{'나이썬': 'B', '김자바': 'B', '김씨': 'A', '박씨샵': 'C'}\n",
            "{'나이썬': 'B', '김자바': 'B', '김씨': 'A', '박씨샵': 'C'}\n"
          ]
        }
      ],
      "source": [
        "grades = {'나이썬' : 'B', '김자바' : 'B', '김씨' : 'A', '박씨샵' : 'C'}\n",
        "print(grades)\n",
        "\n",
        "names = ['나이썬', '김자바', '김씨', '박씨샵']\n",
        "grades = ['B', 'B', 'A', 'C']\n",
        "result = dict(zip(names, grades))\n",
        "print(result)\n",
        "\n",
        "#zip() : names와 grades 리스트를 한 쌍으로 묶어줌\n",
        "#dict() : 딕셔너리로 변환"
      ]
    },
    {
      "cell_type": "markdown",
      "metadata": {
        "id": "3_R1qI-ABpga"
      },
      "source": [
        "---"
      ]
    },
    {
      "cell_type": "markdown",
      "metadata": {
        "id": "yzi6f2-YKsk4"
      },
      "source": [
        "__[문제8]__\n",
        "\n",
        "아래 ice 딕셔너리에 데이터를 추가 후 출력해주세요\n",
        "\n",
        "ice = {\"메로나\": [300, 20],  \n",
        "              \"비비빅\": [400, 3],  \n",
        "              \"죠스바\": [250, 100]}  \n",
        "\n",
        "\n",
        "추가해야하는 데이터) 이름 : 보석바, 가격:650, 재고:10"
      ]
    },
    {
      "cell_type": "code",
      "execution_count": 52,
      "metadata": {
        "id": "UCB2be7RBpga",
        "colab": {
          "base_uri": "https://localhost:8080/"
        },
        "outputId": "ddba9341-9e62-405a-ef8a-d4f0fe6943be"
      },
      "outputs": [
        {
          "output_type": "stream",
          "name": "stdout",
          "text": [
            "{'메로나': [300, 20], '비비빅': [400, 3], '죠스바': [250, 100], '보석바': [650, 10]}\n"
          ]
        }
      ],
      "source": [
        "ice = {\"메로나\": [300, 20],\"비비빅\": [400, 3],\"죠스바\": [250, 100]}\n",
        "ice['보석바'] = [650, 10]\n",
        "print(ice)\n",
        "# ice['보석바'] = [650, 10] :\n",
        "# ice = 딕셔너리\n",
        "# 키 = ['보석바']\n",
        "# 값 = [650, 10]"
      ]
    },
    {
      "cell_type": "markdown",
      "metadata": {
        "id": "_QZnsR5TBpga"
      },
      "source": [
        "---"
      ]
    },
    {
      "cell_type": "markdown",
      "metadata": {
        "id": "RQJC80PBLWGt"
      },
      "source": [
        "__[문제9]__\n",
        "\n",
        "아래 딕셔너리에서 key만 list 형태로 출력해주세요\n",
        "\n",
        "ice = {'메로나': 1000, '폴로포': 1200, '빵빠레': 1800, '죠스바': 1200, '월드콘': 1500}\n"
      ]
    },
    {
      "cell_type": "code",
      "execution_count": 33,
      "metadata": {
        "id": "m5m-a09iLVbO",
        "colab": {
          "base_uri": "https://localhost:8080/"
        },
        "outputId": "643bed87-d91e-4556-c4a1-b8e7c7dfb72d"
      },
      "outputs": [
        {
          "output_type": "stream",
          "name": "stdout",
          "text": [
            "['메로나', '폴로포', '빵빠레', '죠스바', '월드콘']\n"
          ]
        }
      ],
      "source": [
        "ice = {'메로나': 1000, '폴로포': 1200, '빵빠레': 1800, '죠스바': 1200, '월드콘': 1500}\n",
        "\n",
        "print(list(ice.keys()))\n",
        "\n",
        "#ice.keys() = ice(딕셔너리) 모든 키 반환\n",
        "#list() = 리스트로 변환 후 출력"
      ]
    }
  ],
  "metadata": {
    "colab": {
      "provenance": [],
      "include_colab_link": true
    },
    "kernelspec": {
      "display_name": "Python 3",
      "name": "python3"
    },
    "language_info": {
      "name": "python"
    }
  },
  "nbformat": 4,
  "nbformat_minor": 0
}