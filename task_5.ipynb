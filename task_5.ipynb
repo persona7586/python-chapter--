{
  "cells": [
    {
      "cell_type": "markdown",
      "metadata": {
        "id": "view-in-github",
        "colab_type": "text"
      },
      "source": [
        "<a href=\"https://colab.research.google.com/github/persona7586/python-chapter--/blob/main/task_5.ipynb\" target=\"_parent\"><img src=\"https://colab.research.google.com/assets/colab-badge.svg\" alt=\"Open In Colab\"/></a>"
      ]
    },
    {
      "cell_type": "markdown",
      "metadata": {
        "id": "UADOXASr2Gh-"
      },
      "source": [
        "datetime 모듈을 사용하여 현재 날짜와 시간을 출력하는 프로그램을 작성하세요.\n",
        "\n",
        "또한, 사용자로부터 태어난 년도를 입력받아 현재 나이를 계산하여 출력하세요."
      ]
    },
    {
      "cell_type": "code",
      "source": [
        "import datetime\n",
        "\n",
        "now = datetime.datetime.now()\n",
        "\n",
        "print(f'지금은 {now.year}년 {now.month}월 {now.day}일 {now.hour}시 {now.minute}분 입니다.')\n",
        "\n",
        "age = int(input('태어난 년도를 말씀해주세요 : '))\n",
        "age = now.year - age\n",
        "print(f'당신의 나이는 {age}살 입니다.')"
      ],
      "metadata": {
        "colab": {
          "base_uri": "https://localhost:8080/",
          "height": 245
        },
        "id": "5q8k_gpNJF4I",
        "outputId": "1bf91d00-5bb3-4d6a-96a0-948042c80a5b"
      },
      "execution_count": null,
      "outputs": [
        {
          "name": "stdout",
          "output_type": "stream",
          "text": [
            "지금은 2025년 1월 13일 14시 50분 입니다.\n",
            "태어난 년도를 말씀해주세요 : 묻지 마요!\n"
          ]
        },
        {
          "output_type": "error",
          "ename": "ValueError",
          "evalue": "invalid literal for int() with base 10: '묻지 마요!'",
          "traceback": [
            "\u001b[0;31m---------------------------------------------------------------------------\u001b[0m",
            "\u001b[0;31mValueError\u001b[0m                                Traceback (most recent call last)",
            "\u001b[0;32m<ipython-input-5-803a44fbc5ad>\u001b[0m in \u001b[0;36m<cell line: 7>\u001b[0;34m()\u001b[0m\n\u001b[1;32m      5\u001b[0m \u001b[0mprint\u001b[0m\u001b[0;34m(\u001b[0m\u001b[0;34mf'지금은 {now.year}년 {now.month}월 {now.day}일 {now.hour}시 {now.minute}분 입니다.'\u001b[0m\u001b[0;34m)\u001b[0m\u001b[0;34m\u001b[0m\u001b[0;34m\u001b[0m\u001b[0m\n\u001b[1;32m      6\u001b[0m \u001b[0;34m\u001b[0m\u001b[0m\n\u001b[0;32m----> 7\u001b[0;31m \u001b[0mage\u001b[0m \u001b[0;34m=\u001b[0m \u001b[0mint\u001b[0m\u001b[0;34m(\u001b[0m\u001b[0minput\u001b[0m\u001b[0;34m(\u001b[0m\u001b[0;34m'태어난 년도를 말씀해주세요 : '\u001b[0m\u001b[0;34m)\u001b[0m\u001b[0;34m)\u001b[0m\u001b[0;34m\u001b[0m\u001b[0;34m\u001b[0m\u001b[0m\n\u001b[0m\u001b[1;32m      8\u001b[0m \u001b[0mage\u001b[0m \u001b[0;34m=\u001b[0m \u001b[0mnow\u001b[0m\u001b[0;34m.\u001b[0m\u001b[0myear\u001b[0m \u001b[0;34m-\u001b[0m \u001b[0mage\u001b[0m\u001b[0;34m\u001b[0m\u001b[0;34m\u001b[0m\u001b[0m\n\u001b[1;32m      9\u001b[0m \u001b[0mprint\u001b[0m\u001b[0;34m(\u001b[0m\u001b[0;34mf'당신의 나이는 {age}살 입니다.'\u001b[0m\u001b[0;34m)\u001b[0m\u001b[0;34m\u001b[0m\u001b[0;34m\u001b[0m\u001b[0m\n",
            "\u001b[0;31mValueError\u001b[0m: invalid literal for int() with base 10: '묻지 마요!'"
          ]
        }
      ]
    },
    {
      "cell_type": "code",
      "source": [
        "import datetime #파이썬에서 날짜와 시간 관련 기능을 제공하는 datetime 모듈을 코드에 포함(import) *모듈을 활용\n",
        "\n",
        "now = datetime.datetime.now() #현재 날짜와 시간을 반환\n",
        "\n",
        "print(f'지금은 {now.year}년 {now.month}월 {now.day}일 {now.hour}시 {now.minute}분 입니다.')\n",
        "\n",
        "age = int(input('태어난 년도를 말씀해주세요 : ')) #정수로 내용을 받기 위해 int활용, 태어난 년도를 입력 받음\n",
        "age = now.year - age #지금 년도에서 입력한 출생년도를 빼게 되면 나이를 구할 수 있음\n",
        "print(f'당신의 나이는 {age}살 입니다.') #지금 년도에서 출생년도를 뺀 현재 나이를 출력함"
      ],
      "metadata": {
        "colab": {
          "base_uri": "https://localhost:8080/"
        },
        "id": "8cYseY9W2OS7",
        "outputId": "250009d4-9491-4561-9be5-9214d592d784"
      },
      "execution_count": null,
      "outputs": [
        {
          "output_type": "stream",
          "name": "stdout",
          "text": [
            "지금은 2025년 1월 13일 9시 10분 입니다.\n",
            "태어난 년도를 말씀해주세요 : 1993\n",
            "당신의 나이는 32살 입니다.\n"
          ]
        }
      ]
    },
    {
      "cell_type": "code",
      "source": [
        "import datetime #파이썬에서 날짜와 시간 관련 기능을 제공하는 datetime 모듈을 코드에 포함(import) *모듈을 활용\n",
        "\n",
        "now = datetime.datetime.now() #현재 날짜와 시간을 반환\n",
        "\n",
        "print(now.strftime(\"%Y-%m-%d %H:%M:%S\")) #now.strftime = 날짜/시간 형식화 %뒤에 년도(Y), 월(m), 일(d), 시간(H), 분(M), 초(s)를 이용해서 현재 날짜와 시간을 적용해서 표현\n",
        "\n",
        "age = int(input('태어난 년도를 말씀해주세요 : '))\n",
        "age = now.year - age\n",
        "print(f'당신의 나이는 {age}살 입니다.')"
      ],
      "metadata": {
        "colab": {
          "base_uri": "https://localhost:8080/"
        },
        "id": "4BZgYk__-PpL",
        "outputId": "1198d83f-afb3-4a84-ef29-548cbcdcaf66"
      },
      "execution_count": null,
      "outputs": [
        {
          "output_type": "stream",
          "name": "stdout",
          "text": [
            "2025-01-13 14:49:29\n",
            "태어난 년도를 말씀해주세요 : 1993\n",
            "당신의 나이는 32살 입니다.\n"
          ]
        }
      ]
    }
  ],
  "metadata": {
    "language_info": {
      "name": "python"
    },
    "colab": {
      "provenance": [],
      "include_colab_link": true
    },
    "kernelspec": {
      "name": "python3",
      "display_name": "Python 3"
    }
  },
  "nbformat": 4,
  "nbformat_minor": 0
}