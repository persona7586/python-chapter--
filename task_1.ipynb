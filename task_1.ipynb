{
  "cells": [
    {
      "cell_type": "markdown",
      "metadata": {
        "id": "view-in-github",
        "colab_type": "text"
      },
      "source": [
        "<a href=\"https://colab.research.google.com/github/persona7586/python-chapter--/blob/main/task_1.ipynb\" target=\"_parent\"><img src=\"https://colab.research.google.com/assets/colab-badge.svg\" alt=\"Open In Colab\"/></a>"
      ]
    },
    {
      "cell_type": "markdown",
      "metadata": {
        "id": "nSpFYNKhO3qh"
      },
      "source": [
        "사용자로부터 두 개의 숫자를 입력받아 나눗셈을 수행하는 프로그램을 작성하세요.\n",
        "\n",
        "[예외처리]\n",
        "- 입력 값이 숫자가 아닐 때 발생할 수 있는 ValueError\n",
        "- 나누는 수가 0일 때 발생할 수 있는 ZeroDivisionError\n",
        "- 위 2가지 예외처리 후 사용자에게 이해하기 쉬운 메시지 작성 후 출력되도록 코드를 작성"
      ]
    },
    {
      "cell_type": "code",
      "source": [
        "#숫자 구성 확인 메서드\n",
        "# 정수만 확인하려면 .isdigit().\n",
        "# 유니코드 숫자까지 포함하려면 .isnumeric().\n",
        "# 10진수 숫자만 확인하려면 .isdecimal().\n",
        "# 소수나 음수를 포함한 숫자까지 확인하려면 float() 변환\n",
        "# float적용, 숫자 2개 아닌 경우 컷\n",
        "\n",
        "try:\n",
        "    Divide_two_numbers = input('띄워쓰기로 구분해서 숫자 2개 입력해주십시 ').split()\n",
        "    if len(Divide_two_numbers) != 2:\n",
        "        print(\"<<<숫자 두 개>>>를 입력해주십시\")\n",
        "    else:\n",
        "        number1, number2 = map(float, Divide_two_numbers)  # float 변환\n",
        "        if number2 > 0:\n",
        "            result = number1 / number2\n",
        "            print(result)\n",
        "        elif number2 == 0:\n",
        "            print(\"0은 입력하지 마십시\")\n",
        "except ValueError:\n",
        "    print(\"문자 말고 숫자를 입력하십시\")\n",
        "\n",
        "# 예외가 발생할 가능성에 대한 코드 블록 실행 try를 활용해봄\n",
        "# 두 숫자를 저장하기 위한 변수는 두개의 숫자를 나누다 라는 뜻의 Divide_two_numbers로 해보겠음\n",
        "# input으로 사용자가 입력할 수 있게 해주고\n",
        "# 두 숫자를 입력할 때 두개의 숫자 구분을 위한 구분자를 띄워쓰기로 간단하게 적용 split()\n",
        "# if문으로 시작해서 변수로 입력될 숫자 즉 입력된 숫자가 두개가 아닐 경우를 대비하기 위해 변수의 길이로 2가 아닐 경우로 가정해서 숫자 두개를 입력해 달라는 안내를 작성\n",
        "# 그 외의 경우를 입력하기 위해 else를 써보고\n",
        "# 입력된 각각의 숫자를 앞 뒤로 나눠 number1, number2로 해서\n",
        "# 반복 가능한 객체의 각 요소에 대해 주어진 함수를 적용하기위해 map으로 묶고 그 안에 소수나 음수를 포함한 숫자까지 확인하기 위해 float()적용\n",
        "# else안에서 또 가정 if해버려서 두번째 자리수인 number2가 0보다 클 경우 정상적으로 number1과 number2를 나눈 값이 프린트 되도록 하고\n",
        "# elif로 또 하나의 조건으로 0일 경우 0은 입력하지 말아달라는 안내를 작성\n",
        "# except는 예외 처리 구조 즉 예상치 못한 오류나 예외 상황이 발생했을 때 이를 처리할 수 있도록 돕는 역할을 하며 try블록에서 발생할 수 있는 예외를 잡아서 처리해주기 때문에\n",
        "# 여기서 예외가 발생할 경우를 숫자가 아닌 문자를 입력할 경우를 보정하기 위해 except를 활용해서 문자 말고 숫자를 입력해 달라는 안내문을 작성"
      ],
      "metadata": {
        "colab": {
          "base_uri": "https://localhost:8080/"
        },
        "id": "3UpFEn-hZ97E",
        "outputId": "a611c822-8ab8-49bb-fb4b-06a6491de209"
      },
      "execution_count": null,
      "outputs": [
        {
          "output_type": "stream",
          "name": "stdout",
          "text": [
            "띄워쓰기로 구분해서 숫자 2개 입력해주십시 tow one\n",
            "문자 말고 숫자를 입력하십시\n"
          ]
        }
      ]
    },
    {
      "cell_type": "code",
      "source": [
        "try:\n",
        "    Divide_two_numbers = input('띄워쓰기로 구분해서 숫자 2개 입력해주십시 ').split()\n",
        "    if len(Divide_two_numbers) != 2:\n",
        "        print(\"<<<숫자 두 개>>>를 입력해주십시\")\n",
        "    else:\n",
        "        number1, number2 = map(float, Divide_two_numbers)  # float 변환\n",
        "        if number2 > 0:\n",
        "            result = number1 / number2\n",
        "            print(result)\n",
        "        elif number2 == 0:\n",
        "            print(\"0은 입력하지 마십시\")\n",
        "except ValueError:\n",
        "    print(\"문자 말고 숫자를 입력하십시\")"
      ],
      "metadata": {
        "colab": {
          "base_uri": "https://localhost:8080/"
        },
        "id": "UAQTqMiFfmxB",
        "outputId": "6ce3a5a6-4173-4d0a-cca0-0668fa6004ea"
      },
      "execution_count": null,
      "outputs": [
        {
          "output_type": "stream",
          "name": "stdout",
          "text": [
            "띄워쓰기로 구분해서 숫자 2개 입력해주십시 2 0\n",
            "0은 입력하지 마십시\n"
          ]
        }
      ]
    },
    {
      "cell_type": "code",
      "source": [
        "try:\n",
        "    Divide_two_numbers = input('띄워쓰기로 구분해서 숫자 2개 입력해주십시 ').split()\n",
        "    if len(Divide_two_numbers) != 2:\n",
        "        print(\"<<<숫자 두 개>>>를 입력해주십시\")\n",
        "    else:\n",
        "        number1, number2 = map(float, Divide_two_numbers)  # float 변환\n",
        "        if number2 > 0:\n",
        "            result = number1 / number2\n",
        "            print(result)\n",
        "        elif number2 == 0:\n",
        "            print(\"0은 입력하지 마십시\")\n",
        "except ValueError:\n",
        "    print(\"문자 말고 숫자를 입력하십시\")"
      ],
      "metadata": {
        "colab": {
          "base_uri": "https://localhost:8080/"
        },
        "id": "nQNFuWEwfswu",
        "outputId": "dcc216d1-7fa0-4542-ab92-f0f64d9d09d0"
      },
      "execution_count": null,
      "outputs": [
        {
          "output_type": "stream",
          "name": "stdout",
          "text": [
            "띄워쓰기로 구분해서 숫자 2개 입력해주십시 1 5 6 7\n",
            "<<<숫자 두 개>>>를 입력해주십시\n"
          ]
        }
      ]
    },
    {
      "cell_type": "code",
      "source": [
        "try:\n",
        "    Divide_two_numbers = input('띄워쓰기로 구분해서 숫자 2개 입력해주십시 ').split()\n",
        "    if len(Divide_two_numbers) != 2:\n",
        "        print(\"<<<숫자 두 개>>>를 입력해주십시\")\n",
        "    else:\n",
        "        number1, number2 = map(float, Divide_two_numbers)  # float 변환\n",
        "        if number2 > 0:\n",
        "            result = number1 / number2\n",
        "            print(result)\n",
        "        elif number2 == 0:\n",
        "            print(\"0은 입력하지 마십시\")\n",
        "except ValueError:\n",
        "    print(\"문자 말고 숫자를 입력하십시\")"
      ],
      "metadata": {
        "colab": {
          "base_uri": "https://localhost:8080/"
        },
        "id": "TNydkwG9gKsp",
        "outputId": "dab28340-9630-44f2-df22-0294298f006d"
      },
      "execution_count": null,
      "outputs": [
        {
          "output_type": "stream",
          "name": "stdout",
          "text": [
            "띄워쓰기로 구분해서 숫자 2개 입력해주십시 7 77\n",
            "0.09090909090909091\n"
          ]
        }
      ]
    },
    {
      "cell_type": "code",
      "source": [
        "#소숫점 긴게 거슬리니 2번째 자리까지만 나타내고 3번째 자리에서 반올림 시키기 위해 round를 활용해봅시다\n",
        "try:\n",
        "    Divide_two_numbers = input('띄워쓰기로 구분해서 숫자 2개 입력해주십시 ').split()\n",
        "    if len(Divide_two_numbers) != 2:\n",
        "        print(\"<<<숫자 두 개>>>를 입력해주십시\")\n",
        "    else:\n",
        "        number1, number2 = map(float, Divide_two_numbers)  # float 변환\n",
        "        if number2 > 0:\n",
        "            result = number1 / number2\n",
        "            print(round(result, 2))\n",
        "        elif number2 == 0:\n",
        "            print(\"0은 입력하지 마십시\")\n",
        "except ValueError:\n",
        "    print(\"문자 말고 숫자를 입력하십시\")"
      ],
      "metadata": {
        "colab": {
          "base_uri": "https://localhost:8080/"
        },
        "id": "1yQnibtifvmV",
        "outputId": "dfb6eda1-b238-4cfc-8fd6-738ba39de1cc"
      },
      "execution_count": null,
      "outputs": [
        {
          "output_type": "stream",
          "name": "stdout",
          "text": [
            "띄워쓰기로 구분해서 숫자 2개 입력해주십시 7 77\n",
            "0.09\n"
          ]
        }
      ]
    }
  ],
  "metadata": {
    "language_info": {
      "name": "python"
    },
    "colab": {
      "provenance": [],
      "include_colab_link": true
    },
    "kernelspec": {
      "name": "python3",
      "display_name": "Python 3"
    }
  },
  "nbformat": 4,
  "nbformat_minor": 0
}