{
  "cells": [
    {
      "cell_type": "markdown",
      "metadata": {
        "id": "view-in-github",
        "colab_type": "text"
      },
      "source": [
        "<a href=\"https://colab.research.google.com/github/persona7586/python-chapter--/blob/main/task_9.ipynb\" target=\"_parent\"><img src=\"https://colab.research.google.com/assets/colab-badge.svg\" alt=\"Open In Colab\"/></a>"
      ]
    },
    {
      "cell_type": "markdown",
      "metadata": {
        "id": "2EcB-9XLzWx3"
      },
      "source": [
        "animals라는 패키지를 만들고, 이 패키지 내에 mammals, birds라는 두 개의 서브 모듈을 생성하세요.\n",
        "\n",
        "- 각 모듈에는 최소한 한 개 이상의 동물에 관한 클래스를 정의하세요<br>\n",
        "  (예: mammals에는 Dog, birds에는 Eagle)\n",
        "- 이 패키지와 모듈을 사용하여 동물들의 정보를 출력하는 프로그램을 작성\n",
        "\n",
        "폴더 및 파일 구조\n",
        "```\n",
        "animals/(폴더)\n",
        "├── __init__.py\n",
        "├── mammals.py\n",
        "└── birds.py\n",
        "```\n"
      ]
    },
    {
      "cell_type": "code",
      "source": [
        "#동물 클래스 정리\n",
        "class Dog:\n",
        "    def __init__(self, name, age):  #self는 클래스 내에서 메소드를 정의할 때 첫 번째 매개변수로 사용되는 특별한 이름을 뜻함\n",
        "        self.name = name            #self는 메소드가 호출되는 객체 자신을 가리켜 객체의 속성이나 다른 메소드에 접근할 수 있게 해줌\n",
        "        self.age = age              #활용적인 면에서는 객체마다 고유의 데이터를 저장할 수 있어 각 개체는 자신만의 속성 값들을 갖음\n",
        "\n",
        "    def info(self):\n",
        "        return f\"이름: {self.name}, 나이: {self.age}살\"\n",
        "\n",
        "    def sound(self):\n",
        "        return \"흐... 와구작(깨물어버림;)\"\n",
        "\n",
        "class Cat:\n",
        "    def __init__(self, name, age):\n",
        "        self.name = name\n",
        "        self.age = age\n",
        "\n",
        "    def info(self):\n",
        "        return f\"이름: {self.name}, 나이: {self.age}살\"\n",
        "\n",
        "    def sound(self):\n",
        "        return \"으르르릉 캬아아악\"\n",
        "\n",
        "class Eagle:\n",
        "    def __init__(self, name, age):\n",
        "        self.name = name\n",
        "        self.age = age\n",
        "\n",
        "    def info(self):\n",
        "        return f\"이름: {self.name}, 나이: {self.age}살\"\n",
        "\n",
        "    def sound(self):\n",
        "        return \"꽤에에에에에엑\"\n",
        "\n",
        "#동물에 관한 클래스 (선택식)\n",
        "\n",
        "try: #예외가 발생할 가능성에 대한 코드 블록 실행 try를 활용\n",
        "    animals = input(\"궁금하신 정보의 숫자를 입력해 주십시:\\n1. mammals\\n2. birds\\n입력: \").strip() #단락 나누기 \\n 활용 -> 위에서 아래로 나타냄으로 목차형식으로 보면서 선택할 수 있게 해봄\n",
        "\n",
        "    if len(animals) != 1 or not animals.isdigit(): #길이가 한자리 수가 아니거나 animals외에 다른 정보의 입력을 막아버려야 함\n",
        "        print(\"<<< 한 자리 숫자 >>>를 입력해 주십시 (ex: 1, 2)\")\n",
        "    else:\n",
        "        animals = int(animals) #숫자 1,2로 선택할 수 있도록 입력하게 만들거기 때문에 정수 int입힘\n",
        "        if animals == 1:\n",
        "            mammal_choice = input(\"궁금하신 정보의 숫자를 입력하십시:\\n1. Dog\\n2. Cat\\n입력: \").strip() #일단 1번 mammal를 선택할 경우 mammal이 포유류를 뜻하므로 개와 고양이 두개의 정보를 나눠 한번 더 선택할 수 있게 만들고싶음\n",
        "\n",
        "            if len(mammal_choice) != 1 or not mammal_choice.isdigit(): #하위 선택(mammal) 안에서도 길이가 한자리 수가 아니거나 animals외에 다른 정보의 입력을 막아버려야 함\n",
        "                print(\"<<< 한 자리 숫자 >>>를 입력해 주십시 (ex: 1, 2)\")\n",
        "            else:\n",
        "                mammal_choice = int(mammal_choice)\n",
        "                if mammal_choice == 1:                        #잘못 입력되지 않고 1번을 선택할 경우 dog의 정보가 뜰 수 있도록 설정했고, 울음소리는 위에 동물 클래스에서 정보를 받아올 수 있게 info(), sound()를 활용\n",
        "                    dog = Dog(name=\"케르베로스\", age=6)\n",
        "                    print(dog.info())\n",
        "                    print(f\"울음소리는 {dog.sound()}입니다.\")\n",
        "                elif mammal_choice == 2:                      #2번이 입력 된 경우 cat의 정보가 뜰 수 있도록 elif 설정\n",
        "                    cat = Cat(name=\"산군\", age=9)\n",
        "                    print(cat.info())\n",
        "                    print(f\"울음소리는 {cat.sound()}입니다.\")\n",
        "                else:\n",
        "                    print(\"보기에서 제공된 숫자만 입력하십시 (1 또는 2).\")  #다른 숫자를 입력 했을 경우 ex)3 1또는 2를 선택할 수 있도록 안내\n",
        "        elif animals == 2:                          #animals에서 2번을 선택할 경우 2번 bird(bird는 하위항목 안만들었음 귀찮아서)가 선택되고 정보가 뜰 수 있게 설정 1번하위 항목과 안겹치려면 들여쓰기 차이를 둬야함\n",
        "            eagle = Eagle(name=\"킹\", age=7)\n",
        "            print(eagle.info())\n",
        "            print(f\"울음소리는 {eagle.sound()}입니다.\")\n",
        "        else:\n",
        "            print(\"보기에서 제공된 숫자만 입력해 주십시 (1 또는 2).\")\n",
        "except ValueError:\n",
        "    print(\"보기에서 제공된 숫자만 입력해 주십시.\")"
      ],
      "metadata": {
        "colab": {
          "base_uri": "https://localhost:8080/"
        },
        "id": "30i22SLWBLa2",
        "outputId": "0d08adf9-584a-4ff0-aa47-0e2be2b6b862"
      },
      "execution_count": null,
      "outputs": [
        {
          "output_type": "stream",
          "name": "stdout",
          "text": [
            "궁금하신 정보의 숫자를 입력해 주십시:\n",
            "1. mammals\n",
            "2. birds\n",
            "입력: 1\n",
            "궁금하신 정보의 숫자를 입력하십시:\n",
            "1. Dog\n",
            "2. Cat\n",
            "입력: 2\n",
            "이름: 산군, 나이: 9살\n",
            "울음소리는 으르르릉 캬아아악입니다.\n"
          ]
        }
      ]
    }
  ],
  "metadata": {
    "language_info": {
      "name": "python"
    },
    "colab": {
      "provenance": [],
      "include_colab_link": true
    },
    "kernelspec": {
      "name": "python3",
      "display_name": "Python 3"
    }
  },
  "nbformat": 4,
  "nbformat_minor": 0
}