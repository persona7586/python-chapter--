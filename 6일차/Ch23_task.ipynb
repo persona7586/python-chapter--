{
  "cells": [
    {
      "cell_type": "markdown",
      "metadata": {
        "id": "view-in-github",
        "colab_type": "text"
      },
      "source": [
        "<a href=\"https://colab.research.google.com/github/persona7586/python-chapter--/blob/main/Ch23_task.ipynb\" target=\"_parent\"><img src=\"https://colab.research.google.com/assets/colab-badge.svg\" alt=\"Open In Colab\"/></a>"
      ]
    },
    {
      "cell_type": "markdown",
      "metadata": {
        "id": "D6OFQQRD8Ggo"
      },
      "source": [
        "사용자의 이름을 출력하는 함수 print_name을 작성하세요. 만약 이름이 주어지지 않았다면, 기본값으로 \"익명\"을 사용하세요."
      ]
    },
    {
      "cell_type": "code",
      "source": [
        "def print_name(name='익명'):\n",
        "    print(f'사용자의 이름 : {name}.')\n",
        "\n",
        "print_name()\n",
        "print_name(\"장태문\")\n",
        "#일단 함수는 def 넣고 시작, print_name이라는 함수의 이름을 작성 해달라 했으니 입력 (이름을 사용해 함수를 호출 할 수 있는거임), (name='익명')이건 매개변수로 함수가 호출될 때 전달받는 매개변수 이걸 기본값을 익명으로 설정 하겠다 알리는거\n",
        "#f-string을 이용해 문자열에 변수나 표현식{}를 삽입하고 출력\n",
        "#pritn_name() 는 값 없이 뭐라 써지는지 보려는거, print_name('장태문')는 안에 작성된 문자가 표현 되는지 확인하기 위함"
      ],
      "metadata": {
        "colab": {
          "base_uri": "https://localhost:8080/"
        },
        "id": "S5xDLYED8H9P",
        "outputId": "fa0035da-5a3b-40f6-9c50-e271feca4d1b"
      },
      "execution_count": null,
      "outputs": [
        {
          "output_type": "stream",
          "name": "stdout",
          "text": [
            "사용자의 이름 : 익명.\n",
            "사용자의 이름 : 장태문.\n"
          ]
        }
      ]
    }
  ],
  "metadata": {
    "language_info": {
      "name": "python"
    },
    "colab": {
      "provenance": [],
      "include_colab_link": true
    },
    "kernelspec": {
      "name": "python3",
      "display_name": "Python 3"
    }
  },
  "nbformat": 4,
  "nbformat_minor": 0
}
