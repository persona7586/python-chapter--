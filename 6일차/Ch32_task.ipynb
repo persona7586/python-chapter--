{
  "cells": [
    {
      "cell_type": "markdown",
      "metadata": {
        "id": "view-in-github",
        "colab_type": "text"
      },
      "source": [
        "<a href=\"https://colab.research.google.com/github/persona7586/python-chapter--/blob/main/Ch32_task.ipynb\" target=\"_parent\"><img src=\"https://colab.research.google.com/assets/colab-badge.svg\" alt=\"Open In Colab\"/></a>"
      ]
    },
    {
      "cell_type": "markdown",
      "metadata": {
        "id": "7KWAWvP375UB"
      },
      "source": [
        "두 문자열을 받아서 긴 문자열을 반환하는 함수 longer_string을 작성하세요. 만약 두 문자열의 길이가 같다면, 첫 번째 문자열을 반환하세요."
      ]
    },
    {
      "cell_type": "code",
      "source": [
        "def longer_string(str1, str2):\n",
        "    if len(str1) >= len(str2):\n",
        "        return str1\n",
        "    else:\n",
        "        return str2\n",
        "\n",
        "print(longer_string('apple', 'banana'))\n",
        "\n",
        "# 함수 일단 def 쓰고 알려주는 함수명 longer_string 작성 해봄\n",
        "# 문자열이 두개라고 했으니 str1, str2로 매개변수 입력해봄\n",
        "# 조건문을 붙여서 문자열길이를 나타내는 len함수를 이용하는데, 첫번째 문자열을 반환하는 조건이 첫번째 문자열이 더 길때와 첫번째와 두번째 문자열이 길이가 같을때도 포함되어야 함으로 >=를 이용해서 작성해주고\n",
        "# rturn시 반환을 str1로\n",
        "# str2가 반환되는 상황을 표현할 때 첫번째 길이보다 두번째 길이가 클때 len(str1) < len(str2)를 입력하기보단 다른 조건이 추가로 붙는게 없으므로 그냥 앞에 조건을 제외한 나머지를 else로 str2를 반환하게끔 작성\n",
        "# 출력함수에 매개변수 str1,과 str2를 입력 = apple와 bnanan"
      ],
      "metadata": {
        "colab": {
          "base_uri": "https://localhost:8080/"
        },
        "id": "9-buvfUn77B6",
        "outputId": "87943328-c4f6-4adc-a40b-2f071ec9141f"
      },
      "execution_count": null,
      "outputs": [
        {
          "output_type": "stream",
          "name": "stdout",
          "text": [
            "banana\n"
          ]
        }
      ]
    },
    {
      "cell_type": "code",
      "source": [
        "def longer_string(str1, str2):\n",
        "    if len(str1) >= len(str2):\n",
        "        return str1\n",
        "    else:\n",
        "        return str2\n",
        "\n",
        "print(longer_string('apple', 'grape'))\n",
        "\n",
        "#문자열의 길이가 5로 서로 같을 때 첫 번째 문자열을 출력하는지 보기위해 같은 길이의 grape를 str2에 대입해 봤고 길이가 같을 때 첫 번째 문자열인 apple가 출력 되는 것을 확인함."
      ],
      "metadata": {
        "colab": {
          "base_uri": "https://localhost:8080/"
        },
        "id": "H4N8hga08w9G",
        "outputId": "21d2cffb-139a-4a34-db2d-f11a2edf62eb"
      },
      "execution_count": null,
      "outputs": [
        {
          "output_type": "stream",
          "name": "stdout",
          "text": [
            "apple\n"
          ]
        }
      ]
    }
  ],
  "metadata": {
    "language_info": {
      "name": "python"
    },
    "colab": {
      "provenance": [],
      "include_colab_link": true
    },
    "kernelspec": {
      "name": "python3",
      "display_name": "Python 3"
    }
  },
  "nbformat": 4,
  "nbformat_minor": 0
}
