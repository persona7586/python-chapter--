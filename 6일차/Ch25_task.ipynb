{
  "cells": [
    {
      "cell_type": "markdown",
      "metadata": {
        "id": "view-in-github",
        "colab_type": "text"
      },
      "source": [
        "<a href=\"https://colab.research.google.com/github/persona7586/python-chapter--/blob/main/Ch25_task.ipynb\" target=\"_parent\"><img src=\"https://colab.research.google.com/assets/colab-badge.svg\" alt=\"Open In Colab\"/></a>"
      ]
    },
    {
      "cell_type": "markdown",
      "metadata": {
        "id": "kz6lbs8NRy4K"
      },
      "source": [
        "두 개의 정수를 받아 합을 반환하는 함수 add를 작성하세요. 매개변수와 반환값에 타입 어노테이션을 추가하세요."
      ]
    },
    {
      "cell_type": "code",
      "source": [
        "def add(a: int, b: int) -> int:\n",
        "    return a + b\n",
        "\n",
        "print(add(7, 77))\n",
        "\n",
        "#함수 들어가면 일단 def, 함수의 이름을 add로\n",
        "#매개변수? => a: int, b: int 이 함수는 두 개의 정수(int) 입력값을 사용\n",
        "#반환값 지정?  -> int : 함수가 정수를 반환하도록 지정\n",
        "#return : 함수에서 함수가 호출된 위치로 결과를 다시 보냄\n",
        "#정수를 받아 합? a + b\n",
        "#print로 함수 이름(add)을 호출하면서 매개변수(7, 77)를 입력)"
      ],
      "metadata": {
        "colab": {
          "base_uri": "https://localhost:8080/"
        },
        "id": "wY-TJtnXSf7f",
        "outputId": "7538922c-2dab-4b36-bf1d-ada6ea192d57"
      },
      "execution_count": null,
      "outputs": [
        {
          "output_type": "stream",
          "name": "stdout",
          "text": [
            "84\n"
          ]
        }
      ]
    }
  ],
  "metadata": {
    "language_info": {
      "name": "python"
    },
    "colab": {
      "provenance": [],
      "include_colab_link": true
    },
    "kernelspec": {
      "name": "python3",
      "display_name": "Python 3"
    }
  },
  "nbformat": 4,
  "nbformat_minor": 0
}
