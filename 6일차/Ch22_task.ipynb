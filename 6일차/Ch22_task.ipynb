{
  "cells": [
    {
      "cell_type": "markdown",
      "metadata": {
        "id": "view-in-github",
        "colab_type": "text"
      },
      "source": [
        "<a href=\"https://colab.research.google.com/github/persona7586/python-chapter--/blob/main/Ch22_task.ipynb\" target=\"_parent\"><img src=\"https://colab.research.google.com/assets/colab-badge.svg\" alt=\"Open In Colab\"/></a>"
      ]
    },
    {
      "cell_type": "markdown",
      "metadata": {
        "id": "HBvxKSF-3oup"
      },
      "source": [
        "여러 숫자를 입력받아 그 합계를 반환하는 함수 sum_numbers를 작성하세요. 이 때, 가변 매개변수를 사용하세요."
      ]
    },
    {
      "cell_type": "code",
      "source": [
        "def sum_numbers(*numbers):\n",
        "    return sum(numbers)\n",
        "    print(sum_numbers)\n",
        "\n",
        "sum_numbers(1, 2, 3, 4)\n",
        "#함수는 일단 def쓰고 시작, 합계? = sum\n",
        "#*numbers는 가변 인수를 의미하는 것으로 함수가 호출될 때 전달받는 모든 인수를 튜플 형태로 묶어줌, 이 방식은 함수에 전달할 인수의 개수가 미리 정해지지 않은 경우 유용하다.\n",
        "#return = 함수에서 값을 반환할 때 사용, 함수 결과값을 호출한 곳으로 돌려주는 역할"
      ],
      "metadata": {
        "colab": {
          "base_uri": "https://localhost:8080/"
        },
        "id": "w0gK03aY49k1",
        "outputId": "2e7b3132-89ff-4ff2-e955-bd2ac09e89fb"
      },
      "execution_count": null,
      "outputs": [
        {
          "output_type": "execute_result",
          "data": {
            "text/plain": [
              "10"
            ]
          },
          "metadata": {},
          "execution_count": 3
        }
      ]
    }
  ],
  "metadata": {
    "language_info": {
      "name": "python"
    },
    "colab": {
      "provenance": [],
      "include_colab_link": true
    },
    "kernelspec": {
      "name": "python3",
      "display_name": "Python 3"
    }
  },
  "nbformat": 4,
  "nbformat_minor": 0
}
