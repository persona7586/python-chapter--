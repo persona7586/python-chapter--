{
  "cells": [
    {
      "cell_type": "markdown",
      "metadata": {
        "id": "view-in-github",
        "colab_type": "text"
      },
      "source": [
        "<a href=\"https://colab.research.google.com/github/persona7586/python-chapter--/blob/main/Ch28_task.ipynb\" target=\"_parent\"><img src=\"https://colab.research.google.com/assets/colab-badge.svg\" alt=\"Open In Colab\"/></a>"
      ]
    },
    {
      "cell_type": "markdown",
      "metadata": {
        "id": "G7iIxd9JEz48"
      },
      "source": [
        "사용자로부터 3개의 숫자를 입력받아, 이를 튜플로 만든 후 최소값과 최대값을 출력하는 함수 min_max를 작성하세요."
      ]
    },
    {
      "cell_type": "code",
      "source": [
        "def min_max(*numbers) :\n",
        "    numbers_tuple = tuple(numbers)\n",
        "    print('최솟값은',min(numbers_tuple),'이고, ' '최댓값은',max(numbers_tuple),'이다.')\n",
        "min_max(777, 77, 7)\n",
        "\n",
        "\n",
        "#함수는 일단 def 작성하고 시작\n",
        "#앞에 *가 붙은 *numbers는 가변 인수를 의미하는 것으로 함수가 호출될 때 전달받는 모든 인수를 튜플 형태로 묶어줌, 이 방식은 함수에 전달할 인수의 개수가 미리 정해지지 않은 경우 유용하다.\n",
        "#함수 호출 시 전달되는 인수들이 모두 numbers라는 튜플에 저장\n",
        "#tuple(numbers) : numbers 튜플로 저장, 명시적으로 변환 가독성을 높이는 역할 ((777, 77, 7) 형태의 튜플)\n",
        "#numbers를 튜플로 변환해서 numbers_tuple변수에 저장\n",
        "#print : 화면에 결과를 출력\n",
        "#min(numbers_tuple) : numbers_tuple에서 가장 작은 값을 찾는 함수\n",
        "#max(numbers_tuple) : numbers_tuple에서 가장 큰 값을 찾는 함수\n",
        "#min_max(777, 77, 7) 정의된 함수 min_max를 호출 후 777, 77, 7을 전달"
      ],
      "metadata": {
        "colab": {
          "base_uri": "https://localhost:8080/"
        },
        "id": "2kZOE2wME07-",
        "outputId": "8531ad2f-f07c-4206-b876-a3c6bf50054e"
      },
      "execution_count": null,
      "outputs": [
        {
          "output_type": "stream",
          "name": "stdout",
          "text": [
            "최솟값은 7 이고, 최댓값은 777 이다.\n"
          ]
        }
      ]
    }
  ],
  "metadata": {
    "language_info": {
      "name": "python"
    },
    "colab": {
      "provenance": [],
      "include_colab_link": true
    },
    "kernelspec": {
      "name": "python3",
      "display_name": "Python 3"
    }
  },
  "nbformat": 4,
  "nbformat_minor": 0
}
