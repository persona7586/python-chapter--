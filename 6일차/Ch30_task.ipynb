{
  "cells": [
    {
      "cell_type": "markdown",
      "metadata": {
        "id": "view-in-github",
        "colab_type": "text"
      },
      "source": [
        "<a href=\"https://colab.research.google.com/github/persona7586/python-chapter--/blob/main/Ch30_task.ipynb\" target=\"_parent\"><img src=\"https://colab.research.google.com/assets/colab-badge.svg\" alt=\"Open In Colab\"/></a>"
      ]
    },
    {
      "cell_type": "markdown",
      "metadata": {
        "id": "fO2ickz3TAEF"
      },
      "source": [
        "팩토리얼을 계산하는 재귀 함수 factorial을 작성하세요."
      ]
    },
    {
      "cell_type": "code",
      "source": [
        "#재귀 함수?\n",
        "def factorial(n):\n",
        "    if n == 0:\n",
        "        return 1\n",
        "    else:\n",
        "        return n * factorial(n-1)\n",
        "print(factorial(7))\n",
        "\n",
        "#일단 재귀함수가 뭔지부터 알아야함\n",
        "#재귀함수(Recursive Function) : 자기 자신을 호출하는 함수, 함수가 자신의 정의 안에서 다시 자신을 호출해서 특정 작업을 반복적으로 수행하는 프로그래밍 기법\n",
        "#재귀 함수의 핵심 요소 : 1. Base Case 재귀 호출을 멈추는 조건, 이 조건이 없으면 함수가 무한히 호출하여 무한 루프에 빠짐 2. Recursive Step 문제를 더 작은 부분으로 나눠서 자신을 호출하는 단계, 재귀 호출을 통해 문제를 점점 단순화 하면서 Base Case에 도달\n",
        "#factorial은? 계산하는 함수\n",
        "#if문으로 조건을 기입할건데 팩토리얼 계산은 특정 작업을 무수히 반복하기 때문에 종료 시점을 정할 필요가 있고 그 때 필요한게 기저 조건이다. 기저 조건을 n == 0 즉 숫자 n이 0과 같을때로 설정 if n == 0:\n",
        "#return 1 = 입력값이 0에 도달할 경우 1을 반환하여 계산을 멈춤\n",
        "#if: 조건 기입 elif: 추가 조건 기입 else: if, elif의 내용에 해당되 지 않을 때의 조건 숫자가 이 식에서는 0이 아닐때는 else에 해당되도록 유도하고 있음\n",
        "#0이 되면 멈추고 그 전까진 계속해서 n x (n-1) -> (n x (n-1)) x (n-2) ... 7 x 6 = 42 -> 42 x 5 = 210 -> 210 x 4 = ... -> 5040 x 1 = 5040 -> 5040 x 0기저조건 도달 반환값 = 1 => 5040\n"
      ],
      "metadata": {
        "colab": {
          "base_uri": "https://localhost:8080/"
        },
        "id": "bvL8fcb_TCOI",
        "outputId": "627351a3-691f-4418-9447-d49e6611df27"
      },
      "execution_count": null,
      "outputs": [
        {
          "output_type": "stream",
          "name": "stdout",
          "text": [
            "5040\n"
          ]
        }
      ]
    }
  ],
  "metadata": {
    "language_info": {
      "name": "python"
    },
    "colab": {
      "provenance": [],
      "include_colab_link": true
    },
    "kernelspec": {
      "name": "python3",
      "display_name": "Python 3"
    }
  },
  "nbformat": 4,
  "nbformat_minor": 0
}
