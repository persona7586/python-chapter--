{
  "cells": [
    {
      "cell_type": "markdown",
      "metadata": {
        "id": "view-in-github",
        "colab_type": "text"
      },
      "source": [
        "<a href=\"https://colab.research.google.com/github/persona7586/python-chapter--/blob/main/Ch26_task.ipynb\" target=\"_parent\"><img src=\"https://colab.research.google.com/assets/colab-badge.svg\" alt=\"Open In Colab\"/></a>"
      ]
    },
    {
      "cell_type": "markdown",
      "metadata": {
        "id": "LJUDF49EZGpH"
      },
      "source": [
        "0부터 시작하여 n까지의 숫자 중에서 홀수만 생성하는 제너레이터 odd_numbers를 작성하세요."
      ]
    },
    {
      "cell_type": "code",
      "source": [
        "def odd_numbers(n):\n",
        "    for num in range(n):\n",
        "        if num % 2 != 0:\n",
        "            yield num\n",
        "\n",
        "for i in odd_numbers(10):\n",
        "    print(i)\n",
        "\n",
        "\n",
        "#odd_numbers(n) : 하나의 인수(n)를 취하는 명명된 함수 정의\n",
        "#for문은 순차적으로 데이터를 반복 처리할 때 매우 유용. 시퀀스 자료형을 순회할 수 있게 해줌. 반복적인 작업을 간단하게 코드로 표현할 수 있어 코드의 가독성과 유지보수가 용이\n",
        "#range(n) : 0부터 9까지의 숫자를 반복할 수 있게 해줌\n",
        "#for num in range(n) : range(n)에서 까지 일련의 숫자를 생성\n",
        "#if num % 2 != 0: = 숫자가 홀수인지 확인, != 0: = 나머지가 0이 아님을 의미 (홀수를 나누면 나머지가 생김을 이용)\n",
        "#yield : 함수가 상태를 유지하면서 일시 중지하고 값을 반환하여 나중에 중단된 위치에서 다시 시작할 수 있음"
      ],
      "metadata": {
        "colab": {
          "base_uri": "https://localhost:8080/"
        },
        "id": "xtdEdCiKej81",
        "outputId": "9b460ed6-19de-498c-e481-1fe85dc6099b"
      },
      "execution_count": null,
      "outputs": [
        {
          "output_type": "stream",
          "name": "stdout",
          "text": [
            "1\n",
            "3\n",
            "5\n",
            "7\n",
            "9\n"
          ]
        }
      ]
    }
  ],
  "metadata": {
    "language_info": {
      "name": "python"
    },
    "colab": {
      "provenance": [],
      "include_colab_link": true
    },
    "kernelspec": {
      "name": "python3",
      "display_name": "Python 3"
    }
  },
  "nbformat": 4,
  "nbformat_minor": 0
}
