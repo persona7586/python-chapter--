{
  "cells": [
    {
      "cell_type": "markdown",
      "metadata": {
        "id": "view-in-github",
        "colab_type": "text"
      },
      "source": [
        "<a href=\"https://colab.research.google.com/github/persona7586/python-chapter--/blob/main/Ch27_task.ipynb\" target=\"_parent\"><img src=\"https://colab.research.google.com/assets/colab-badge.svg\" alt=\"Open In Colab\"/></a>"
      ]
    },
    {
      "cell_type": "markdown",
      "metadata": {
        "id": "MTEFjtJRxv8p"
      },
      "source": [
        "두 숫자를 더하는 람다 함수를 작성하고, 이를 변수에 할당한 후 사용하세요."
      ]
    },
    {
      "cell_type": "code",
      "source": [
        "add = lambda x,y : x+y\n",
        "\n",
        "print(add(7,7))\n",
        "\n",
        "#lambda 함수 : 이름이 없는 익명 함수, 간단한 로직 처리 때 유용, 함수를 간단히 정의하는 키워드\n",
        "#x,y : x+y : 두개의 입력값 x와 y를 받아 합을 반환, x,y는 함수의 매개변수(parameter), x,y = 사용자가 전달할 입력값을 의미 x+y = 함수의 본문, 두 입력값의 합을 반환\n",
        "#print() : 결과를 화면에 출력\n",
        "#(add(7,7)) : add에 두 개의 인수 7과 7을 전달해서 람다 함수가 실행되도록 호출"
      ],
      "metadata": {
        "colab": {
          "base_uri": "https://localhost:8080/"
        },
        "id": "a_QZI1owxyNk",
        "outputId": "428500bf-b58b-48d7-9488-900890513bcc"
      },
      "execution_count": null,
      "outputs": [
        {
          "output_type": "stream",
          "name": "stdout",
          "text": [
            "14\n"
          ]
        }
      ]
    }
  ],
  "metadata": {
    "language_info": {
      "name": "python"
    },
    "colab": {
      "provenance": [],
      "include_colab_link": true
    },
    "kernelspec": {
      "name": "python3",
      "display_name": "Python 3"
    }
  },
  "nbformat": 4,
  "nbformat_minor": 0
}