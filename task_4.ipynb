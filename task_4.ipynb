{
  "cells": [
    {
      "cell_type": "markdown",
      "metadata": {
        "id": "view-in-github",
        "colab_type": "text"
      },
      "source": [
        "<a href=\"https://colab.research.google.com/github/persona7586/python-chapter--/blob/main/task_4.ipynb\" target=\"_parent\"><img src=\"https://colab.research.google.com/assets/colab-badge.svg\" alt=\"Open In Colab\"/></a>"
      ]
    },
    {
      "cell_type": "markdown",
      "metadata": {
        "id": "YkG8Z2bhpilb"
      },
      "source": [
        "사용자 정의 예외 NegativeNumberError를 생성하고, 사용자로부터 숫자를 입력받아 음수일 경우 NegativeNumberError를 발생시키는 프로그램을 작성하세요.\n",
        "\n",
        "- 예외 처리 구문을 사용하여 음수 입력 시 \"양수를 입력해주세요.\"라는 메시지를 출력"
      ]
    },
    {
      "cell_type": "code",
      "source": [
        "class NegativeNumberError(Exception): #Exception클래스를 상속받는 새로운 예외 클래스 -> NegativeNumberError\n",
        "    pass\n",
        "\n",
        "# pass의 의미\n",
        "# NegativeNumberError 클래스가 별다른 동작이나 속성 없이 Exception 클래스를 그대로 상속받고 있기 때문에, 클래스 정의 안에 아무런 코드도 넣지 않으려면 pass를 사용해야 한다.\n",
        "# NegativeNumberError 클래스가 Exception 클래스를 상속받을 때, 그 자체로 예외로 기능하기 위해서는 pass를 사용하여 클래스를 정의만 해둔다. 만약 여기서 pass를 빼면, 클래스가 비어 있어서 문법 오류(SyntaxError)가 발생하게 됨.\n",
        "# 따라서 pass는 클래스 정의, 함수 정의, 조건문 등에서 \"아무것도 하지 않음\"을 명시적으로 표현할 때 사용함.\n",
        "\n",
        "try: #예외가 발생할 가능성이 있는 경우 사용\n",
        "    num = int(input(\"숫자를 입력하세요 : \")) # 변수를 하나 설정하고 입력을 받는데 그 받는 입력값을 문자열에서 정수로 변환해서 받기위해 int 사용\n",
        "    if num < 0:  #음수일 경우 NegativeNumberError를 발생시켜야 하기 때문에 음수일 경우를 가정하는 설정문 작성\n",
        "        raise NegativeNumberError(\"NegativeNumberError\") #raise를 사용해서 NegativeNumberError 예외를 발생시고 해당 예외 메시지를 뒤에 나타내줌 -> 예외가 발생하면 except블록으로 제어가 이동\n",
        "except NegativeNumberError as e: #try 블록에서 발생한 NegativeNumberError예외를 처리 = except, as e는 예외를 변수 e로 받는 부분\n",
        "    print(f\"{e} : 양수를 입력해주세요.\") #e는 예외 메시지를 출력할 때 사용되며, 예외 객체를 나타냄"
      ],
      "metadata": {
        "colab": {
          "base_uri": "https://localhost:8080/"
        },
        "id": "kuyf1Rcep4zU",
        "outputId": "c01b2dac-50a3-423a-a3cc-77596c8ac956"
      },
      "execution_count": null,
      "outputs": [
        {
          "output_type": "stream",
          "name": "stdout",
          "text": [
            "숫자를 입력하세요 : -7\n",
            "NegativeNumberError : 양수를 입력해주세요.\n"
          ]
        }
      ]
    }
  ],
  "metadata": {
    "language_info": {
      "name": "python"
    },
    "colab": {
      "provenance": [],
      "include_colab_link": true
    },
    "kernelspec": {
      "name": "python3",
      "display_name": "Python 3"
    }
  },
  "nbformat": 4,
  "nbformat_minor": 0
}